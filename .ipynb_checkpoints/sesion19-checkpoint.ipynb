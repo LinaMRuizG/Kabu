{
 "cells": [
  {
   "cell_type": "markdown",
   "metadata": {
    "id": "v7J_GvZBCtQW"
   },
   "source": [
    "<p><img alt=\"Colaboratory logo\" height=\"140px\" src=\"https://upload.wikimedia.org/wikipedia/commons/archive/f/fb/20161010213812%21Escudo-UdeA.svg\" align=\"left\" hspace=\"10px\" vspace=\"0px\"></p>\n",
    "\n",
    "# **Diplomado de Análisis de datos y Machine Learning en Python**\n",
    "\n",
    "\n",
    "El presente diplomado hace parte del centro de Big Data de la facultad de ciencias exactas y naturales (FCEN) de la Universidad de Antioquia.\n",
    "\n",
    "## **Sesión 19**\n",
    "\n",
    "## **Contenido**\n",
    "- <a href=\"#ser\"> Series de tiempo</a><br>\n",
    "  - <a href=\"#ind\"> Indexación basada en el tiempo</a><br>\n",
    "  - <a href=\"#vis\"> Visualización de datos de series temporales`</a><br>\n",
    "  - <a href=\"#est\"> Estacionalidad</a><br>\n",
    "  - <a href=\"#rem\"> Remuestreo</a><br>\n",
    "  - <a href=\"#ven\"> Ventanas móviles</a><br>\n",
    "  - <a href=\"#ten\"> Tendencias</a><br>"
   ]
  },
  {
   "cell_type": "markdown",
   "metadata": {
    "id": "ircjJGUGCyGd"
   },
   "source": [
    "<p><a name=\"ser\"></a></p>\n",
    "\n",
    "# **Series de tiempo**\n",
    "\n",
    "En su definición más amplia, una serie de tiempo es un conjunto de puntos de datos u observaciones tomadas en momentos específicos. Normalmente a intervalos iguales (por ejemplo, cada hora, cada día, cada semana, cada trimestre, cada año, etc.). \n",
    "\n",
    "Las series temporales suelen utilizarse para predecir sucesos futuros basándose en sucesos o valores observados anteriormente, o simplemente para descubrir patrones. Nos centraremos principalmente en los aspectos de manipulación y visualización de datos del análisis de series temporales.\n",
    "\n",
    "En general, las series temporales suelen tener las siguientes características:\n",
    "\n",
    "* **Tendencias**: Se refiere al movimiento de una serie hacia valores relativamente más altos o más bajos durante un largo período de tiempo. \n",
    "\n",
    "* **Estacionalidad:** Se refiere a un patrón que se repite dentro de un período de tiempo fijo.\n",
    "\n",
    "* **Irregularidad:** También se denomina ruido. La irregularidad tiene una duración corta. \n"
   ]
  },
  {
   "cell_type": "code",
   "execution_count": null,
   "metadata": {
    "id": "gS8qeLupCqxT"
   },
   "outputs": [],
   "source": [
    "import numpy as np\n",
    "import pandas as pd\n",
    "import matplotlib.pyplot as plt\n",
    "import seaborn as sns"
   ]
  },
  {
   "cell_type": "code",
   "execution_count": null,
   "metadata": {
    "id": "tev2p5ntwTCm"
   },
   "outputs": [],
   "source": [
    "# configuracion de las graficas\n",
    "sns.set(rc={'figure.figsize': (13, 4), 'legend.fontsize': 10})\n",
    "\n",
    "# configuracion de los dataframes\n",
    "pd.set_option(\"display.max_columns\", None)"
   ]
  },
  {
   "cell_type": "markdown",
   "metadata": {
    "id": "umHxMI31ZGNF"
   },
   "source": [
    "Utilizaremos un conjunto de datos con información del número de pasajeros en una aerolínea durante cierto periodo de tiempo"
   ]
  },
  {
   "cell_type": "code",
   "execution_count": null,
   "metadata": {
    "id": "vTULVSXFzQlh"
   },
   "outputs": [],
   "source": [
    "fname = \"https://raw.githubusercontent.com/omarcastano/MLutilities/main/MLutilities/datasets/international-airline-passengers.csv\"\n",
    "df = pd.read_csv(fname, names=[\"date\", \"n_passengers\"], skiprows=[0])\n",
    "df.head()"
   ]
  },
  {
   "cell_type": "markdown",
   "metadata": {
    "id": "X-Wp-Q52JQEG"
   },
   "source": [
    "Vemos que cada registro está separado temporalmente por un mes.\n",
    "\n",
    "Como ya hemos visto, Pandas tiene algunas funciones incorporadas asociadas al tipo de dato `datetime` que facilitan el trabajo, lo que hace a Pandas una herramienta muy adecuada para realizar un análisis de series de tiempo"
   ]
  },
  {
   "cell_type": "code",
   "execution_count": null,
   "metadata": {
    "id": "ehXun72SLWY_"
   },
   "outputs": [],
   "source": [
    "# transformar al tipo adecuado"
   ]
  },
  {
   "cell_type": "markdown",
   "metadata": {
    "id": "aqSIPoFGrtMx"
   },
   "source": [
    "Un aspecto útil de tener la fechas como índices es que podemos acceder a los diferentes atributos/métodos temporales directamente del índice, sin necesidad del atributo de acceso `dt`.\n",
    "\n",
    "Por ejemplo, añadamos algunas columnas más que contengan el año, el mes y el día de la semana"
   ]
  },
  {
   "cell_type": "code",
   "execution_count": null,
   "metadata": {
    "id": "uwSVWuz9NK_S"
   },
   "outputs": [],
   "source": [
    "# definir como indice"
   ]
  },
  {
   "cell_type": "code",
   "execution_count": null,
   "metadata": {
    "id": "YakmwcT5MYKd"
   },
   "outputs": [],
   "source": [
    "# definir columnas de dia, mes y año"
   ]
  },
  {
   "cell_type": "markdown",
   "metadata": {
    "id": "1oSXj9qqMklb"
   },
   "source": [
    "<p><a name=\"ind\"></a></p>\n",
    "\n",
    "## **Indexación basada en el tiempo**\n",
    "\n",
    "Una de las características más potentes y convenientes de las series temporales de pandas es la indexación basada en el tiempo, utilizando fechas y horas para organizar y acceder intuitivamente a nuestros datos. Con la indexación basada en el tiempo, podemos utilizar cadenas con formato de fecha/hora para seleccionar datos en nuestro DataFrame con el atributo de acceso `loc`. La indexación funciona de forma similar a la indexación estándar basada en etiquetas, pero con algunas características adicionales.\n",
    "\n",
    "Seleccionemos una fecha particular"
   ]
  },
  {
   "cell_type": "code",
   "execution_count": null,
   "metadata": {
    "id": "e1aDZMS8M3FL"
   },
   "outputs": [],
   "source": [
    "# seleccionar una fecha "
   ]
  },
  {
   "cell_type": "markdown",
   "metadata": {
    "id": "7rij9DgyLYft"
   },
   "source": [
    "También podemos realizar operaciones de *slicing*. Al igual que con la indexación regular con `loc`, se incluyen el punto final"
   ]
  },
  {
   "cell_type": "code",
   "execution_count": null,
   "metadata": {
    "id": "HDvD4QZ5OiNt"
   },
   "outputs": [],
   "source": [
    "# seleccionar entre dos fechas"
   ]
  },
  {
   "cell_type": "markdown",
   "metadata": {
    "id": "RfJdVSHCOxxn"
   },
   "source": [
    "Otra característica muy útil de las series temporales de pandas es la indexación parcial, donde podemos seleccionar todas las fechas/horas que coincidan parcialmente con una cadena dada. "
   ]
  },
  {
   "cell_type": "code",
   "execution_count": null,
   "metadata": {
    "id": "DcJqLNtBMIBU"
   },
   "outputs": [],
   "source": [
    "# seleccionar un año"
   ]
  },
  {
   "cell_type": "code",
   "execution_count": null,
   "metadata": {
    "id": "C4SxloeOcFaL"
   },
   "outputs": [],
   "source": [
    "# seleccionar datos con fecha anterior a un año "
   ]
  },
  {
   "cell_type": "code",
   "execution_count": null,
   "metadata": {
    "id": "rOvubxWJMNTm"
   },
   "outputs": [],
   "source": [
    "# seleccionar el mes de un año"
   ]
  },
  {
   "cell_type": "markdown",
   "metadata": {
    "id": "ONEUcocCLYcp"
   },
   "source": [
    "<p><a name=\"vis\"></a></p>\n",
    "\n",
    "## **Visualización de datos de series temporales**\n",
    "\n",
    "Con pandas y matplotlib, podemos visualizar fácilmente nuestros datos de series temporales, utilizando el método `plot`"
   ]
  },
  {
   "cell_type": "code",
   "execution_count": null,
   "metadata": {
    "id": "IeVwBjvzPSHj"
   },
   "outputs": [],
   "source": [
    "# grafico de linea: numero de pasajeros por año"
   ]
  },
  {
   "cell_type": "code",
   "execution_count": null,
   "metadata": {
    "id": "xUBAvwBFPr_J"
   },
   "outputs": [],
   "source": [
    "# grafico de linea: numero de pasajeros entre 1950 y 1960"
   ]
  },
  {
   "cell_type": "markdown",
   "metadata": {
    "id": "qL6iWnG2RFoA"
   },
   "source": [
    "<p><a name=\"est\"></a></p>\n",
    "\n",
    "## **Estacionalidad**\n",
    "\n",
    "Vamos a explorar más a fondo la estacionalidad de nuestros datos con gráficos de caja, utilizando la función `boxplot` de seaborn para agrupar los datos por diferentes períodos de tiempo y mostrar las distribuciones de cada grupo. "
   ]
  },
  {
   "cell_type": "code",
   "execution_count": null,
   "metadata": {
    "id": "PPKor1S-Qxe2"
   },
   "outputs": [],
   "source": [
    "# numero de pasajeros por mes"
   ]
  },
  {
   "cell_type": "code",
   "execution_count": null,
   "metadata": {
    "id": "xVsrVxAuSHTj"
   },
   "outputs": [],
   "source": [
    "# numero de pasajeros por dia"
   ]
  },
  {
   "cell_type": "markdown",
   "metadata": {
    "id": "tkS1nJdV1VhY"
   },
   "source": [
    "<p><a name=\"rem\"></a></p>\n",
    "\n",
    "## **Remuestreo**\n",
    "\n",
    "A menudo resulta útil remuestrear los datos de las series de tiempo a una frecuencia menor o mayor \n",
    "\n",
    "* El remuestreo a una frecuencia más baja (downsampling) suele implicar una operación de agregación (por ejemplo, calcular los totales de ventas mensuales a partir de datos diarios). \n",
    "\n",
    "* El remuestreo a una frecuencia más alta (upsampling) es menos común y a menudo implica la interpolación u otro método de relleno de datos (por ejemplo, la interpolación de datos meteorológicos por hora a intervalos de 10 minutos para la entrada en un modelo científico) [(Referencia)]((https://pandas.pydata.org/docs/reference/api/pandas.DataFrame.interpolate.html))\n",
    "\n",
    "\n",
    "Nos centraremos en el *downsampling*. El método `resample` del DataFrame, divide el `DatetimeIndex` en intervalos de tiempo y agrupa los datos por intervalos de tiempo. Podemos definir estos intervalos por frecuencia. Las frecuencias disponibles en pandas incluyen horaria ('H'), diaria d ('D'), semanal ('W'), mensual ('M'), entre [otras](https://pandas.pydata.org/pandas-docs/stable/user_guide/timeseries.html). ."
   ]
  },
  {
   "cell_type": "code",
   "execution_count": null,
   "metadata": {
    "id": "b0d3P4wAyODp"
   },
   "outputs": [],
   "source": [
    "# agrupar por periodos de seis meses"
   ]
  },
  {
   "cell_type": "markdown",
   "metadata": {
    "id": "jPO2anVFyRrR"
   },
   "source": [
    "Este método devuelve un objeto similar a un objeto GroupBy, en el que podemos aplicar algún método de agregación al grupo de datos para cada bin de tiempo.\n"
   ]
  },
  {
   "cell_type": "code",
   "execution_count": null,
   "metadata": {
    "id": "DMwp3gLg12CC"
   },
   "outputs": [],
   "source": [
    "# agrupar por periodos de seis meses y calcular la media"
   ]
  },
  {
   "cell_type": "code",
   "execution_count": null,
   "metadata": {
    "id": "Q55Hohnt1Tt7"
   },
   "outputs": [],
   "source": [
    "# forma serie original"
   ]
  },
  {
   "cell_type": "code",
   "execution_count": null,
   "metadata": {
    "id": "KGp2C8bBUd4j"
   },
   "outputs": [],
   "source": [
    "# forma serie remuestreada"
   ]
  },
  {
   "cell_type": "code",
   "execution_count": null,
   "metadata": {
    "id": "wqvcrC4N1dN9"
   },
   "outputs": [],
   "source": [
    "# grafico de linea: numero de pasajeros por año entre los años 1958 y 1960"
   ]
  },
  {
   "cell_type": "markdown",
   "metadata": {
    "id": "RBRffsPS2LDh"
   },
   "source": [
    "\n",
    "\n",
    "Ahora vamos a remuestrear los datos a una frecuencia de un año, agregando con los totales de la suma en lugar de la media."
   ]
  },
  {
   "cell_type": "code",
   "execution_count": null,
   "metadata": {
    "id": "8RVYkIcX1rFb"
   },
   "outputs": [],
   "source": [
    "# agrupar anualmente y tomar la suma"
   ]
  },
  {
   "cell_type": "code",
   "execution_count": null,
   "metadata": {
    "id": "QB-Q4qgPtBCF"
   },
   "outputs": [],
   "source": [
    "# visualizar con grafico de barras"
   ]
  },
  {
   "cell_type": "markdown",
   "metadata": {
    "id": "v3MwYPJUiHYM"
   },
   "source": [
    "**Nota:** *A diferencia de la agregación con `mean`, que establece la salida a `NaN` para cualquier período con todos los datos nulos, el comportamiento por defecto de `sum` devolverá `0` como la suma de los datos nulos.* \n",
    "\n",
    "*Podemos utilizar el kwarg `min_count` en `sum` para cambiar este comportamiento. Con este controlamos el número mínimo de valores válidos para que el resultado sea válido: Si hay menos de `min_count` valores no nulos, el resultado será `NaN`.*\n",
    "\n"
   ]
  },
  {
   "cell_type": "markdown",
   "metadata": {
    "id": "tyDonZyI4PRO"
   },
   "source": [
    "<p><a name=\"ven\"></a></p>\n",
    "\n",
    "## **Ventanas móviles**\n",
    "\n",
    "Las operaciones de ventanas móviles son otra transformación importante para los datos de las series temporales. Al igual que el *downsampling*, las ventanas móviles dividen los datos en ventanas temporales y los datos de cada ventana se agregan con una función de agregación. Sin embargo, a diferencia del *downsampling*, en el que los intervalos de tiempo no se solapan y la salida tiene una frecuencia inferior a la de entrada, las ventanas móviles se solapan y \"ruedan\" a lo largo de la misma frecuencia que los datos, por lo que la serie temporal transformada tiene la misma frecuencia que la serie temporal original.\n",
    "\n",
    "Para construir ventanas móviles, utilizamos el método `rolling`, indicando la ventana `window` sobre la cual queremos actuar. \n",
    "\n",
    "Calculemos el promedio móvil en una ventana de 6 meses "
   ]
  },
  {
   "cell_type": "code",
   "execution_count": null,
   "metadata": {
    "id": "VeQMlXer4Pw6"
   },
   "outputs": [],
   "source": [
    "# promedio móvil en una ventana de 6 meses"
   ]
  },
  {
   "cell_type": "markdown",
   "metadata": {
    "id": "mtke4cMsyz9H"
   },
   "source": [
    "![](https://i.imgur.com/Rt8HQrj.png)"
   ]
  },
  {
   "cell_type": "markdown",
   "metadata": {
    "id": "NS3Z4Y68zDC7"
   },
   "source": [
    "Podemos utilizar el kwarg `center=True` para que se tome el punto medio de cada ventana, y no el final"
   ]
  },
  {
   "cell_type": "code",
   "execution_count": null,
   "metadata": {
    "id": "4ISYVmv3zI4F"
   },
   "outputs": [],
   "source": [
    "# promedio móvil en una ventana de 6 meses"
   ]
  },
  {
   "cell_type": "markdown",
   "metadata": {
    "id": "GGNephh74ATp"
   },
   "source": [
    "\n",
    "\n",
    "Para visualizar las diferencias entre la media móvil y el remuestreo, grafiquemos las tres series temporales (original, remuestreada y media movil) entre 1950 y 1952 para ver sus diferencias"
   ]
  },
  {
   "cell_type": "code",
   "execution_count": null,
   "metadata": {
    "id": "1Puck62oosN1"
   },
   "outputs": [],
   "source": [
    "# graficos de linea"
   ]
  },
  {
   "cell_type": "markdown",
   "metadata": {
    "id": "5K3I-uHwyIBj"
   },
   "source": [
    "**Nota:** *Podemos utilizar el kwarg `min_periods` del método `rolling` para definir el número mínimo de registros en una ventana que deben tener un valor, de lo contrario se asignará a un valor nulo*."
   ]
  },
  {
   "cell_type": "markdown",
   "metadata": {
    "id": "vIpZeEEEcobT"
   },
   "source": [
    "<p><a name=\"ten\"></a></p>\n",
    "\n",
    "## **Tendencias**\n",
    "\n",
    "Los datos de las series temporales suelen presentar una variabilidad lenta y gradual, además de una variabilidad de mayor frecuencia, como la estacionalidad y el ruido. Una forma fácil de visualizar estas tendencias es con medias móviles a diferentes escalas de tiempo.\n",
    "\n",
    "Una media móvil tiende a suavizar una serie temporal promediando las variaciones en frecuencias mucho más altas que el tamaño de la ventana y promediando cualquier estacionalidad en una escala de tiempo igual al tamaño de la ventana. Esto permite explorar las variaciones de baja frecuencia en los datos.\n",
    "\n",
    "Calculemos el promedio móvil anual y visualicemos el resultado"
   ]
  },
  {
   "cell_type": "code",
   "execution_count": null,
   "metadata": {
    "id": "kKPSF_UKdcBA"
   },
   "outputs": [],
   "source": [
    "# promedio móvil anual"
   ]
  },
  {
   "cell_type": "code",
   "execution_count": null,
   "metadata": {
    "id": "CizL3P0odFlK"
   },
   "outputs": [],
   "source": [
    "# grafico de linea"
   ]
  },
  {
   "cell_type": "markdown",
   "metadata": {
    "id": "E0WC8X7weNgf"
   },
   "source": [
    "Podemos ver que la media móvil de 1 año ha suavizado la estacionalidad anual, y nos muestra que la tendencia a largo plazo del número de pasajeros es creciente"
   ]
  },
  {
   "cell_type": "markdown",
   "metadata": {
    "id": "SVD7cHi-fr7r"
   },
   "source": [
    "**Ejercicio:** \n",
    "\n",
    "* Cargue el siguiente conjunto de datos, el cual contiene información de consumo y producción de energía en Alemania:\n",
    "\n",
    " * **Date**: Fecha en el formato (yyyy-mm-dd)\n",
    " * **Consumption**: Consumo de energía en GWh\n",
    " * **Wind**: Producción de energía eólica en GWh\n",
    " * **Solar**: Producción de energía solar en GWh\n",
    " * **Wind+Solar**: Suma de la producción de energía eólica y solar en GWh"
   ]
  },
  {
   "cell_type": "code",
   "execution_count": null,
   "metadata": {
    "id": "9_GtLzeAfuih"
   },
   "outputs": [],
   "source": []
  },
  {
   "cell_type": "markdown",
   "metadata": {
    "id": "chE3fBvdgqFW"
   },
   "source": [
    "* Convierta los datos al tipo adecuado ¿Con qué frecuencia aparecen las fechas?"
   ]
  },
  {
   "cell_type": "code",
   "execution_count": null,
   "metadata": {
    "id": "KPESPOijcxoW"
   },
   "outputs": [],
   "source": []
  },
  {
   "cell_type": "markdown",
   "metadata": {
    "id": "ABjULsztg-vH"
   },
   "source": [
    "* A partir de la fecha, defina tres nuevas columnas que contengan el año, el mes y el día de la semana. Estas columnas deben tener los nombres de los días de la semana y de los meses, no los números asociados."
   ]
  },
  {
   "cell_type": "code",
   "execution_count": null,
   "metadata": {
    "id": "A5K9KwqIzwOE"
   },
   "outputs": [],
   "source": []
  },
  {
   "cell_type": "markdown",
   "metadata": {
    "id": "Fcf8yNEniuJ-"
   },
   "source": [
    "* Grafique en el consumo de energía y la producción de energía eólica y solar en diferentes conjuntos de ejes (compartiendo el eje x), utilizando gráficos de dispersión. ¿Qué patrones observa?\n",
    "\n"
   ]
  },
  {
   "cell_type": "code",
   "execution_count": null,
   "metadata": {
    "id": "pKVrxGt8zxPy"
   },
   "outputs": [],
   "source": []
  },
  {
   "cell_type": "markdown",
   "metadata": {
    "id": "3HKs5Miymp4A"
   },
   "source": [
    "* Grafique el consumo de energía en el año 2017, y durante enero y febrero de ese mismo año ¿Qué patrones observa?"
   ]
  },
  {
   "cell_type": "code",
   "execution_count": null,
   "metadata": {
    "id": "3FXsGbvJzyaF"
   },
   "outputs": [],
   "source": []
  },
  {
   "cell_type": "code",
   "execution_count": null,
   "metadata": {
    "id": "wc2Mk3iSpTWP"
   },
   "outputs": [],
   "source": []
  },
  {
   "cell_type": "markdown",
   "metadata": {
    "id": "IhCoo96KnZAD"
   },
   "source": [
    "* Grafique con un boxplot el consumo de energía y la producción de energía solar y eólica por mes. ¿Qué puede concluir respecto a la estacionalidad?"
   ]
  },
  {
   "cell_type": "code",
   "execution_count": null,
   "metadata": {
    "id": "JVsOTRaUzyH1"
   },
   "outputs": [],
   "source": []
  },
  {
   "cell_type": "markdown",
   "metadata": {
    "id": "wZQ15dXsoISA"
   },
   "source": [
    "* Realice lo mismo del punto anterior pero ahora grupando por días de la semana"
   ]
  },
  {
   "cell_type": "code",
   "execution_count": null,
   "metadata": {
    "id": "iT82PU5Bz0zO"
   },
   "outputs": [],
   "source": []
  },
  {
   "cell_type": "markdown",
   "metadata": {
    "id": "wRu6G57Dodf8"
   },
   "source": [
    "* Remuestree a una frecuencia semanal (1W) y tome la media. Grafique la producción de energía solar junto con este remuestreo semanal, entre enero y julio del 2017"
   ]
  },
  {
   "cell_type": "code",
   "execution_count": null,
   "metadata": {
    "id": "3ww-hYbGETtj"
   },
   "outputs": [],
   "source": []
  },
  {
   "cell_type": "code",
   "execution_count": null,
   "metadata": {
    "id": "WNLOt9QSoTt9"
   },
   "outputs": [],
   "source": []
  },
  {
   "cell_type": "code",
   "execution_count": null,
   "metadata": {
    "id": "sdxkcoa1orh7"
   },
   "outputs": [],
   "source": []
  },
  {
   "cell_type": "markdown",
   "metadata": {
    "id": "So-XKZwGpIND"
   },
   "source": [
    "* Remuestree a una frecuencia mensual y tome la suma. Grafique esta nueva serie temporal con un gráfico de línea para `Consumption` y un gráfico de área (df.plot.area) para `Wind` y `Solar`. ¿Qué puede concluir?"
   ]
  },
  {
   "cell_type": "code",
   "execution_count": null,
   "metadata": {
    "id": "j5KIlDhJo_HI"
   },
   "outputs": [],
   "source": []
  },
  {
   "cell_type": "markdown",
   "metadata": {
    "id": "ps7SFya9p7Yt"
   },
   "source": [
    "* Remuestree a una frecuencia anual y tome la suma. Divida la producción de energía eólica + solar con el consumo de energía y grafique el resultado, a partir del año 2012, en un gráfico de barras. ¿Qué puede concluir?"
   ]
  },
  {
   "cell_type": "code",
   "execution_count": null,
   "metadata": {
    "id": "VuHErmidpab8"
   },
   "outputs": [],
   "source": []
  },
  {
   "cell_type": "markdown",
   "metadata": {
    "id": "ENPnzkjoq1ff"
   },
   "source": [
    "* Calcule los promedios móviles en ventanas de 7 días y un año. Realice un grafico de línea para el consumo de energía original junto con estos promedios moviles. ¿Qué puede concluir?"
   ]
  },
  {
   "cell_type": "code",
   "execution_count": null,
   "metadata": {
    "id": "bjv5MMCJqYfB"
   },
   "outputs": [],
   "source": []
  },
  {
   "cell_type": "markdown",
   "metadata": {
    "id": "6GmglipwryG9"
   },
   "source": [
    "* Grafique el promedio movil anual para `Consumption`, `Wind` y `Solar`. ¿Qué puede concluir?"
   ]
  },
  {
   "cell_type": "code",
   "execution_count": null,
   "metadata": {
    "id": "sLXautVqCgy7"
   },
   "outputs": [],
   "source": []
  }
 ],
 "metadata": {
  "colab": {
   "provenance": []
  },
  "kernelspec": {
   "display_name": "Python 3 (ipykernel)",
   "language": "python",
   "name": "python3"
  },
  "language_info": {
   "codemirror_mode": {
    "name": "ipython",
    "version": 3
   },
   "file_extension": ".py",
   "mimetype": "text/x-python",
   "name": "python",
   "nbconvert_exporter": "python",
   "pygments_lexer": "ipython3",
   "version": "3.10.10"
  }
 },
 "nbformat": 4,
 "nbformat_minor": 1
}
