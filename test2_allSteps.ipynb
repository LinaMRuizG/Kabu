{
 "cells": [
  {
   "cell_type": "markdown",
   "id": "e49867da",
   "metadata": {},
   "source": [
    "In this notebook the selected point between consecutive -/+ or (+/- or  -/+) is the one with the lowest abs of the first derivate (for waves) or second derivate (for peaks and valleys)"
   ]
  },
  {
   "cell_type": "markdown",
   "id": "e3c5ca39",
   "metadata": {},
   "source": [
    "THERE IS A PROBLEM WITH THE DERIVATES, THEY ARE NOT EAQUAL WITH MATHEMATICA. MUST BE LIKE IN MATHEMATICA"
   ]
  },
  {
   "cell_type": "code",
   "execution_count": 1,
   "id": "0fe11a1b",
   "metadata": {},
   "outputs": [
    {
     "name": "stderr",
     "output_type": "stream",
     "text": [
      "/var/folders/_3/sryc3_nj66vgwtq9swf_681m0000gn/T/ipykernel_6266/2300134294.py:5: DeprecationWarning: Please use `gaussian_filter` from the `scipy.ndimage` namespace, the `scipy.ndimage.filters` namespace is deprecated.\n",
      "  from scipy.ndimage.filters import gaussian_filter\n"
     ]
    }
   ],
   "source": [
    "import pandas as pd\n",
    "import matplotlib.pyplot as plt\n",
    "import numpy as np\n",
    "import datetime\n",
    "from scipy.ndimage.filters import gaussian_filter"
   ]
  },
  {
   "cell_type": "code",
   "execution_count": 2,
   "id": "ed02ff2f",
   "metadata": {},
   "outputs": [
    {
     "data": {
      "text/html": [
       "<div>\n",
       "<style scoped>\n",
       "    .dataframe tbody tr th:only-of-type {\n",
       "        vertical-align: middle;\n",
       "    }\n",
       "\n",
       "    .dataframe tbody tr th {\n",
       "        vertical-align: top;\n",
       "    }\n",
       "\n",
       "    .dataframe thead th {\n",
       "        text-align: right;\n",
       "    }\n",
       "</style>\n",
       "<table border=\"1\" class=\"dataframe\">\n",
       "  <thead>\n",
       "    <tr style=\"text-align: right;\">\n",
       "      <th></th>\n",
       "      <th>Date_reported</th>\n",
       "      <th>Country_code</th>\n",
       "      <th>Country</th>\n",
       "      <th>WHO_region</th>\n",
       "      <th>New_cases</th>\n",
       "      <th>Cumulative_cases</th>\n",
       "      <th>New_deaths</th>\n",
       "      <th>Cumulative_deaths</th>\n",
       "    </tr>\n",
       "  </thead>\n",
       "  <tbody>\n",
       "    <tr>\n",
       "      <th>0</th>\n",
       "      <td>2020-01-03</td>\n",
       "      <td>BE</td>\n",
       "      <td>Belgium</td>\n",
       "      <td>EURO</td>\n",
       "      <td>0</td>\n",
       "      <td>0</td>\n",
       "      <td>0</td>\n",
       "      <td>0</td>\n",
       "    </tr>\n",
       "    <tr>\n",
       "      <th>1</th>\n",
       "      <td>2020-01-04</td>\n",
       "      <td>BE</td>\n",
       "      <td>Belgium</td>\n",
       "      <td>EURO</td>\n",
       "      <td>0</td>\n",
       "      <td>0</td>\n",
       "      <td>0</td>\n",
       "      <td>0</td>\n",
       "    </tr>\n",
       "    <tr>\n",
       "      <th>2</th>\n",
       "      <td>2020-01-05</td>\n",
       "      <td>BE</td>\n",
       "      <td>Belgium</td>\n",
       "      <td>EURO</td>\n",
       "      <td>0</td>\n",
       "      <td>0</td>\n",
       "      <td>0</td>\n",
       "      <td>0</td>\n",
       "    </tr>\n",
       "    <tr>\n",
       "      <th>3</th>\n",
       "      <td>2020-01-06</td>\n",
       "      <td>BE</td>\n",
       "      <td>Belgium</td>\n",
       "      <td>EURO</td>\n",
       "      <td>0</td>\n",
       "      <td>0</td>\n",
       "      <td>0</td>\n",
       "      <td>0</td>\n",
       "    </tr>\n",
       "    <tr>\n",
       "      <th>4</th>\n",
       "      <td>2020-01-07</td>\n",
       "      <td>BE</td>\n",
       "      <td>Belgium</td>\n",
       "      <td>EURO</td>\n",
       "      <td>0</td>\n",
       "      <td>0</td>\n",
       "      <td>0</td>\n",
       "      <td>0</td>\n",
       "    </tr>\n",
       "  </tbody>\n",
       "</table>\n",
       "</div>"
      ],
      "text/plain": [
       "  Date_reported Country_code  Country WHO_region  New_cases  Cumulative_cases   \n",
       "0    2020-01-03           BE  Belgium       EURO          0                 0  \\\n",
       "1    2020-01-04           BE  Belgium       EURO          0                 0   \n",
       "2    2020-01-05           BE  Belgium       EURO          0                 0   \n",
       "3    2020-01-06           BE  Belgium       EURO          0                 0   \n",
       "4    2020-01-07           BE  Belgium       EURO          0                 0   \n",
       "\n",
       "   New_deaths  Cumulative_deaths  \n",
       "0           0                  0  \n",
       "1           0                  0  \n",
       "2           0                  0  \n",
       "3           0                  0  \n",
       "4           0                  0  "
      ]
     },
     "execution_count": 2,
     "metadata": {},
     "output_type": "execute_result"
    }
   ],
   "source": [
    "#reading the data\n",
    "df=pd.read_csv(\"/Users/linaruiz/Documents/projectEpidemicCurve/data/uncover_countries.csv\")\n",
    "df.head()"
   ]
  },
  {
   "cell_type": "code",
   "execution_count": 3,
   "id": "4755128a",
   "metadata": {},
   "outputs": [
    {
     "data": {
      "text/html": [
       "<div>\n",
       "<style scoped>\n",
       "    .dataframe tbody tr th:only-of-type {\n",
       "        vertical-align: middle;\n",
       "    }\n",
       "\n",
       "    .dataframe tbody tr th {\n",
       "        vertical-align: top;\n",
       "    }\n",
       "\n",
       "    .dataframe thead th {\n",
       "        text-align: right;\n",
       "    }\n",
       "</style>\n",
       "<table border=\"1\" class=\"dataframe\">\n",
       "  <thead>\n",
       "    <tr style=\"text-align: right;\">\n",
       "      <th></th>\n",
       "      <th>Date_reported</th>\n",
       "      <th>Country_code</th>\n",
       "      <th>Country</th>\n",
       "      <th>WHO_region</th>\n",
       "      <th>New_cases</th>\n",
       "      <th>Cumulative_cases</th>\n",
       "      <th>New_deaths</th>\n",
       "      <th>Cumulative_deaths</th>\n",
       "    </tr>\n",
       "  </thead>\n",
       "  <tbody>\n",
       "    <tr>\n",
       "      <th>0</th>\n",
       "      <td>2020-01-03</td>\n",
       "      <td>IT</td>\n",
       "      <td>Italy</td>\n",
       "      <td>EURO</td>\n",
       "      <td>0</td>\n",
       "      <td>0</td>\n",
       "      <td>0</td>\n",
       "      <td>0</td>\n",
       "    </tr>\n",
       "    <tr>\n",
       "      <th>1</th>\n",
       "      <td>2020-01-04</td>\n",
       "      <td>IT</td>\n",
       "      <td>Italy</td>\n",
       "      <td>EURO</td>\n",
       "      <td>0</td>\n",
       "      <td>0</td>\n",
       "      <td>0</td>\n",
       "      <td>0</td>\n",
       "    </tr>\n",
       "    <tr>\n",
       "      <th>2</th>\n",
       "      <td>2020-01-05</td>\n",
       "      <td>IT</td>\n",
       "      <td>Italy</td>\n",
       "      <td>EURO</td>\n",
       "      <td>0</td>\n",
       "      <td>0</td>\n",
       "      <td>0</td>\n",
       "      <td>0</td>\n",
       "    </tr>\n",
       "    <tr>\n",
       "      <th>3</th>\n",
       "      <td>2020-01-06</td>\n",
       "      <td>IT</td>\n",
       "      <td>Italy</td>\n",
       "      <td>EURO</td>\n",
       "      <td>0</td>\n",
       "      <td>0</td>\n",
       "      <td>0</td>\n",
       "      <td>0</td>\n",
       "    </tr>\n",
       "    <tr>\n",
       "      <th>4</th>\n",
       "      <td>2020-01-07</td>\n",
       "      <td>IT</td>\n",
       "      <td>Italy</td>\n",
       "      <td>EURO</td>\n",
       "      <td>0</td>\n",
       "      <td>0</td>\n",
       "      <td>0</td>\n",
       "      <td>0</td>\n",
       "    </tr>\n",
       "  </tbody>\n",
       "</table>\n",
       "</div>"
      ],
      "text/plain": [
       "  Date_reported Country_code Country WHO_region  New_cases  Cumulative_cases   \n",
       "0    2020-01-03           IT   Italy       EURO          0                 0  \\\n",
       "1    2020-01-04           IT   Italy       EURO          0                 0   \n",
       "2    2020-01-05           IT   Italy       EURO          0                 0   \n",
       "3    2020-01-06           IT   Italy       EURO          0                 0   \n",
       "4    2020-01-07           IT   Italy       EURO          0                 0   \n",
       "\n",
       "   New_deaths  Cumulative_deaths  \n",
       "0           0                  0  \n",
       "1           0                  0  \n",
       "2           0                  0  \n",
       "3           0                  0  \n",
       "4           0                  0  "
      ]
     },
     "execution_count": 3,
     "metadata": {},
     "output_type": "execute_result"
    }
   ],
   "source": [
    "#selecting italy country\n",
    "df_italy = df[df['Country_code'] == 'IT'].reset_index(drop=True)\n",
    "df_italy['Date_reported'] = pd.to_datetime(df_italy['Date_reported'])\n",
    "df_italy.head()"
   ]
  },
  {
   "cell_type": "code",
   "execution_count": 5,
   "id": "bea9bccd",
   "metadata": {},
   "outputs": [
    {
     "data": {
      "text/plain": [
       "0      0.000000\n",
       "1      0.000000\n",
       "2      0.000000\n",
       "3      0.000000\n",
       "4      0.000000\n",
       "         ...   \n",
       "994    0.098732\n",
       "995    0.092419\n",
       "996    0.098017\n",
       "997    0.082385\n",
       "998    0.043862\n",
       "Name: norm_new_cases, Length: 999, dtype: float64"
      ]
     },
     "execution_count": 5,
     "metadata": {},
     "output_type": "execute_result"
    }
   ],
   "source": [
    "df_max_scaled = df_italy.copy()\n",
    "# apply normalization techniques on Column 1\n",
    "df_max_scaled[\"norm_new_cases\"] = df_max_scaled[\"New_cases\"]/df_max_scaled[\"New_cases\"].abs().max()\n",
    "df_max_scaled[\"norm_new_cases\"].to_csv(\"normalizadosPython.csv\",index=False)\n",
    "df_max_scaled[\"norm_new_cases\"]"
   ]
  },
  {
   "cell_type": "code",
   "execution_count": 6,
   "id": "a1a5aff0",
   "metadata": {},
   "outputs": [
    {
     "data": {
      "text/plain": [
       "0      1.966053e-07\n",
       "1      2.140056e-07\n",
       "2      2.425934e-07\n",
       "3      2.979717e-07\n",
       "4      3.652036e-07\n",
       "           ...     \n",
       "994    7.797321e-02\n",
       "995    7.791185e-02\n",
       "996    7.786803e-02\n",
       "997    7.783993e-02\n",
       "998    7.782736e-02\n",
       "Name: smoothed_new_cases_2, Length: 999, dtype: float64"
      ]
     },
     "execution_count": 6,
     "metadata": {},
     "output_type": "execute_result"
    }
   ],
   "source": [
    "#applying gaussian filter to new_cases\n",
    "b=28/2\n",
    "df_max_scaled[\"smoothed_new_cases_2\"] = gaussian_filter(df_max_scaled['norm_new_cases'], b)\n",
    "df_max_scaled[\"smoothed_new_cases_2\"].to_csv(\"suavizadosPyhton.csv\",index=False)\n",
    "df_max_scaled[\"smoothed_new_cases_2\"]"
   ]
  },
  {
   "cell_type": "code",
   "execution_count": null,
   "id": "a2a2c0d1",
   "metadata": {},
   "outputs": [],
   "source": [
    "#plotting\n",
    "plt.figure(figsize=(12,12))\n",
    "plt.plot(df_max_scaled[\"Date_reported\"],df_max_scaled[\"norm_new_cases\"],color=\"gray\")\n",
    "\n",
    "plt.plot(df_max_scaled[\"Date_reported\"],df_max_scaled[\"smoothed_new_cases_2\"],color=\"red\")\n",
    "plt.ylabel('numbers')\n",
    "plt.xticks(rotation=60)\n",
    "plt.show()"
   ]
  },
  {
   "cell_type": "code",
   "execution_count": null,
   "id": "48a2fa99",
   "metadata": {},
   "outputs": [],
   "source": [
    "#df_max_scaled[\"norm_new_cases\"]\n",
    "#print(df_max_scaled[\"norm_new_cases\"])\n",
    "#print(len(df_max_scaled[\"norm_new_cases\"]))\n",
    "#print(len(df_max_scaled[\"norm_new_cases\"][1:]))\n",
    "#print(df_max_scaled[\"norm_new_cases\"][1:])\n",
    "#print(len(df_max_scaled[\"norm_new_cases\"][:-1]))\n",
    "#print(df_max_scaled[\"norm_new_cases\"][:-1])\n",
    "#print(df_max_scaled[\"norm_new_cases\"][998]-df_max_scaled[\"norm_new_cases\"][997])\n"
   ]
  },
  {
   "cell_type": "code",
   "execution_count": null,
   "id": "d54c8eca",
   "metadata": {},
   "outputs": [],
   "source": [
    "#getting the first derivate discrete of the smoothed new cases\n",
    "df_max_scaled[\"firstDerivate_new_cases\"] = df_max_scaled[\"smoothed_new_cases_2\"].rolling(2).agg(lambda x : x.iloc[1]-x.iloc[0])\n",
    "print(df_max_scaled[\"firstDerivate_new_cases\"])"
   ]
  },
  {
   "cell_type": "code",
   "execution_count": null,
   "id": "f9c66386",
   "metadata": {},
   "outputs": [],
   "source": [
    "#applying gaussian filter to \"the first derivate discrete of the smoothed new cases\"\n",
    "b=15/2\n",
    "df_max_scaled[\"smoothedFD_new_cases\"] = gaussian_filter(df_max_scaled['firstDerivate_new_cases'], b)"
   ]
  },
  {
   "cell_type": "code",
   "execution_count": null,
   "id": "628973be",
   "metadata": {},
   "outputs": [],
   "source": [
    "#plotting\n",
    "plt.figure(figsize=(12,12))\n",
    "\n",
    "plt.plot(df_max_scaled[\"Date_reported\"],df_max_scaled[\"smoothedFD_new_cases\"] ,color=\"red\")\n",
    "plt.plot(df_max_scaled[\"Date_reported\"],df_max_scaled[\"firstDerivate_new_cases\"],color=\"Black\")\n",
    "\n",
    "\n",
    "plt.ylabel('numbers')\n",
    "plt.xticks(rotation=60)\n",
    "plt.show()"
   ]
  },
  {
   "cell_type": "code",
   "execution_count": null,
   "id": "84c2eb24",
   "metadata": {},
   "outputs": [],
   "source": [
    "#getting the second derivate: discreted derivate of the smoothed first derivate\n",
    "df_max_scaled[\"secondDerivate_new_cases\"] = df_max_scaled[\"smoothedFD_new_cases\"].rolling(2).agg(lambda x : x.iloc[1]-x.iloc[0])"
   ]
  },
  {
   "cell_type": "code",
   "execution_count": null,
   "id": "66b2950c",
   "metadata": {},
   "outputs": [],
   "source": [
    "df_max_scaled[[\"firstDerivate_new_cases\",\"smoothedFD_new_cases\",\"secondDerivate_new_cases\"]].to_csv(\"derivatesPython.csv\",index=False)"
   ]
  },
  {
   "cell_type": "code",
   "execution_count": null,
   "id": "3ef1010d",
   "metadata": {},
   "outputs": [],
   "source": [
    "#plotting\n",
    "plt.figure(figsize=(12,12))\n",
    "\n",
    "plt.plot(df_max_scaled[\"Date_reported\"],df_max_scaled[\"secondDerivate_new_cases\"],color=\"Black\")\n",
    "\n",
    "\n",
    "plt.ylabel('numbers')\n",
    "plt.xticks(rotation=60)\n",
    "plt.show()"
   ]
  },
  {
   "cell_type": "markdown",
   "id": "d83821f3",
   "metadata": {},
   "source": [
    "To detect waves we used the first derivated smooted and second derivate: "
   ]
  },
  {
   "cell_type": "markdown",
   "id": "958e085d",
   "metadata": {},
   "source": [
    "    1. detect consecutive NEGATIVE-POSITIVE"
   ]
  },
  {
   "cell_type": "code",
   "execution_count": null,
   "id": "7d596f36",
   "metadata": {},
   "outputs": [],
   "source": [
    "df_max_scaled[\"smoothedFDrolling\"]= (df_max_scaled[\"smoothedFD_new_cases\"].rolling(2).agg(lambda x : True if x.iloc[0]<0 and x.iloc[1]>0 else False)).fillna(False)\n",
    "df_max_scaled[\"smoothedFDrolling\"]"
   ]
  },
  {
   "cell_type": "code",
   "execution_count": null,
   "id": "7cdd44ec",
   "metadata": {},
   "outputs": [],
   "source": [
    "#(df_max_scaled[\"smoothedFDrolling\"]==False).sum()\n",
    "#(df_max_scaled[\"smoothedFDrolling\"]==True).sum()\n",
    "#(df_max_scaled[\"smoothedFDrolling\"].isna()).sum()\n",
    "#df_max_scaled[\"smoothedFDrolling\"].value_counts()"
   ]
  },
  {
   "cell_type": "code",
   "execution_count": null,
   "id": "0342bcbd",
   "metadata": {},
   "outputs": [],
   "source": [
    "# Alexis' aproximation\n",
    "df_2=df_max_scaled[df_max_scaled[\"smoothedFDrolling\"]==True][[\"Date_reported\",\"smoothedFD_new_cases\"]].reset_index(drop=True)\n",
    "df_2"
   ]
  },
  {
   "cell_type": "code",
   "execution_count": null,
   "id": "e54c515e",
   "metadata": {},
   "outputs": [],
   "source": [
    "df_3=df_max_scaled[df_max_scaled[\"Date_reported\"].isin(list(df_2[\"Date_reported\"] - datetime.timedelta(days=1)))][[\"Date_reported\",\"smoothedFD_new_cases\"]].reset_index(drop=True)\n",
    "df_3.rename(columns={'Date_reported':'Date_reported_1',\"smoothedFD_new_cases\":\"smoothedFD_new_cases_1\"},inplace=True)\n",
    "df_3"
   ]
  },
  {
   "cell_type": "code",
   "execution_count": null,
   "id": "4c130294",
   "metadata": {},
   "outputs": [],
   "source": [
    "#these are the consecutive NEGATIVE-POSITIVE\n",
    "df_concatenate1=pd.concat([df_2, df_3],axis=1)\n",
    "df_concatenate1"
   ]
  },
  {
   "cell_type": "markdown",
   "id": "a8f87c50",
   "metadata": {},
   "source": [
    "    2. select the date associated to each position (negative, positive) with the lowest Abs[smoothedFD]"
   ]
  },
  {
   "cell_type": "code",
   "execution_count": null,
   "id": "e2d17279",
   "metadata": {},
   "outputs": [],
   "source": [
    "#the dates with the lowest Abs[smoothedFD_new_cases] associated\n",
    "a1=list(df_concatenate1.agg(lambda x : x.Date_reported if abs(x.smoothedFD_new_cases)<abs(x.smoothedFD_new_cases_1)  else x.Date_reported_1,axis=1))\n",
    "a1"
   ]
  },
  {
   "cell_type": "code",
   "execution_count": null,
   "id": "ec2e02bc",
   "metadata": {},
   "outputs": [],
   "source": [
    "cutDays1=df_max_scaled[df_max_scaled[\"Date_reported\"].isin(a1)].reset_index(drop = True)\n",
    "cutDays1"
   ]
  },
  {
   "cell_type": "code",
   "execution_count": null,
   "id": "eee03601",
   "metadata": {},
   "outputs": [],
   "source": [
    "#Lina's approximation\n",
    "#def selecting(a,b):\n",
    "#     return df_max_scaled['Date_reported2'][a] if df_max_scaled[\"smoothedFD_new_cases\"][a] < df_max_scaled[\"smoothedFD_new_cases\"][b] else df_max_scaled['Date_reported2'][b]\n",
    "    \n",
    "#%time\n",
    "#positions1 = np.where(df_max_scaled[\"smoothedFDrolling\"]==True)[0] #positive\n",
    "#positions2= positions1-1 #negative\n",
    "#cutDays=[selecting(a, b) for a, b in zip(positions1, positions2)]\n",
    "#cutDays"
   ]
  },
  {
   "cell_type": "markdown",
   "id": "cbd6cdfb",
   "metadata": {},
   "source": [
    "    3. From this cutdays(dates) select those with the second derivate (discrete derivate of the first derivate )higher than the threshold "
   ]
  },
  {
   "cell_type": "code",
   "execution_count": null,
   "id": "3e1b1108",
   "metadata": {},
   "outputs": [],
   "source": [
    "#this is set up by the user\n",
    "thresholdP= 2.5*10**-5"
   ]
  },
  {
   "cell_type": "code",
   "execution_count": null,
   "id": "7ed473a7",
   "metadata": {},
   "outputs": [],
   "source": [
    "d0=cutDays1.agg(lambda x : x[\"Date_reported\"] if  x[\"secondDerivate_new_cases\"] > thresholdP else [],axis=1)\n",
    "d0"
   ]
  },
  {
   "cell_type": "code",
   "execution_count": null,
   "id": "60a24b0d",
   "metadata": {},
   "outputs": [],
   "source": [
    "dates = pd.to_datetime(d0.explode())\n",
    "dates=dates[~np.isnat(dates)]\n",
    "dates"
   ]
  },
  {
   "cell_type": "code",
   "execution_count": null,
   "id": "a6d911cf",
   "metadata": {},
   "outputs": [],
   "source": []
  },
  {
   "cell_type": "markdown",
   "id": "d55c6981",
   "metadata": {},
   "source": [
    "    4. Plot the days"
   ]
  },
  {
   "cell_type": "code",
   "execution_count": null,
   "id": "6c45c2d7",
   "metadata": {},
   "outputs": [],
   "source": [
    "#fig, ax = plt.subplots()\n",
    "\n",
    "cases =df_max_scaled[\"norm_new_cases\"]\n",
    "\n",
    "plt.figure(figsize=(12,12))\n",
    "\n",
    "\n",
    "plt.plot(df_max_scaled[\"Date_reported\"],cases,color=\"gray\")\n",
    "plt.plot(df_max_scaled[\"Date_reported\"],df_max_scaled[\"smoothed_new_cases_2\"],color=\"red\")\n",
    "\n",
    "\n",
    "#plt.ylabel('numbers')\n",
    "#plt.xticks(rotation=60)\n",
    "#plt.show()\n",
    "\n",
    "\n",
    "\n",
    "# Plot vertical lines at each date\n",
    "for date in dates:\n",
    "    plt.axvline(x=date, color='black', ymax= max(cases), linestyle='--', linewidth=.91)\n",
    "\n",
    "# Set the y-axis limits\n",
    "#ax.set_ylim(0, 1)\n",
    "\n",
    "# Hide the y-axis ticks and labels\n",
    "#ax.set_yticks([])\n",
    "\n",
    "# Show the plot\n",
    "#plt.show()"
   ]
  },
  {
   "cell_type": "markdown",
   "id": "3bce1679",
   "metadata": {},
   "source": [
    "To detect peaks/valleys we used the second derivate (discrete derivate of the first derivate ): "
   ]
  },
  {
   "cell_type": "markdown",
   "id": "8bf73734",
   "metadata": {},
   "source": [
    "    1.Detect POSITIVE-NEGATIVE and NEGATIVE-POSITIVE points in the second derivate:"
   ]
  },
  {
   "cell_type": "code",
   "execution_count": null,
   "id": "ec476693",
   "metadata": {},
   "outputs": [],
   "source": [
    "df_max_scaled[\"smoothedFDrolling2\"]= (df_max_scaled[\"secondDerivate_new_cases\"].rolling(2).agg(lambda x : True if (x.iloc[0]<0 and x.iloc[1]>0) or (x.iloc[0]>0 and x.iloc[1]<0) else False)).fillna(False)\n",
    "df_max_scaled[\"smoothedFDrolling2\"]"
   ]
  },
  {
   "cell_type": "code",
   "execution_count": null,
   "id": "4ad569df",
   "metadata": {},
   "outputs": [],
   "source": [
    "print((df_max_scaled[\"smoothedFDrolling2\"]==False).sum())\n",
    "print((df_max_scaled[\"smoothedFDrolling2\"]==True).sum())\n",
    "print((df_max_scaled[\"smoothedFDrolling2\"].isna()).sum())\n",
    "print(df_max_scaled[\"smoothedFDrolling2\"].value_counts())"
   ]
  },
  {
   "cell_type": "code",
   "execution_count": null,
   "id": "532ac762",
   "metadata": {},
   "outputs": [],
   "source": [
    "df_4=df_max_scaled[df_max_scaled[\"smoothedFDrolling2\"]==1][[\"Date_reported\",\"secondDerivate_new_cases\"]].reset_index(drop=True)\n",
    "df_4"
   ]
  },
  {
   "cell_type": "code",
   "execution_count": null,
   "id": "908dfe39",
   "metadata": {},
   "outputs": [],
   "source": [
    "df_5=df_max_scaled[df_max_scaled[\"Date_reported\"].isin(list(df_4[\"Date_reported\"] - datetime.timedelta(days=1)))][[\"Date_reported\",\"secondDerivate_new_cases\"]].reset_index(drop=True)\n",
    "df_5.rename(columns={'Date_reported':'Date_reported_1',\"secondDerivate_new_cases\":\"secondDerivate_new_cases_1\"},inplace=True)\n",
    "df_5"
   ]
  },
  {
   "cell_type": "code",
   "execution_count": null,
   "id": "2a721bb9",
   "metadata": {},
   "outputs": [],
   "source": [
    "#these are the consecutive +/- and -/+\n",
    "df_concatenate2=pd.concat([df_4, df_5], axis=1)\n",
    "df_concatenate2"
   ]
  },
  {
   "cell_type": "markdown",
   "id": "38ae7db9",
   "metadata": {},
   "source": [
    "    2. Select from each consequitve -/+ or +/- the date with the lowest abs[second derivate]"
   ]
  },
  {
   "cell_type": "code",
   "execution_count": null,
   "id": "4d031853",
   "metadata": {},
   "outputs": [],
   "source": [
    "a2= list(df_concatenate2.agg(lambda x : x.Date_reported if abs(x.secondDerivate_new_cases)<abs(x.secondDerivate_new_cases_1)  else x.Date_reported_1,axis=1))\n",
    "a2"
   ]
  },
  {
   "cell_type": "code",
   "execution_count": null,
   "id": "ca3da87c",
   "metadata": {},
   "outputs": [],
   "source": [
    "cutDays2=(df_max_scaled[df_max_scaled[\"Date_reported\"].isin(a2)].reset_index(drop = True))[[\"Date_reported\",\"secondDerivate_new_cases\"]]\n",
    "cutDays2#this is the dataframe when the first number of the second derivate is positive"
   ]
  },
  {
   "cell_type": "markdown",
   "id": "4f6f674a",
   "metadata": {},
   "source": [
    "    3. Now we have only one date associated to each cut point. The set of cut points are pairs that delimited the peaks or valleys. Now we should select the consecutive pair with an associated lowest second derivate lower than the Negative Threshold:"
   ]
  },
  {
   "cell_type": "markdown",
   "id": "7bdbd985",
   "metadata": {},
   "source": [
    "        NOTE: Remember that we first take the lowest second derivate between the consecutive cutdays, and then this lowest value is compared with the negative threshold. In other words, we looked for the lowest second derivate values in the set of negative values between a pair of cutdays. The pairs are organized depending on the sign of the first value of the second derivate:"
   ]
  },
  {
   "cell_type": "markdown",
   "id": "cb93897b",
   "metadata": {},
   "source": [
    "        a. for those with the positive sign: the consecutive pair start in the first cutdays2 set of dates"
   ]
  },
  {
   "cell_type": "code",
   "execution_count": null,
   "id": "f2d5f026",
   "metadata": {},
   "outputs": [],
   "source": [
    "signFirstValueSecondD=\"positive\" if df_5[\"secondDerivate_new_cases_1\"][0] > 0 else \"negative\"\n",
    "signFirstValueSecondD# this is important to define the consequitive cut points that have only negative numbers"
   ]
  },
  {
   "cell_type": "code",
   "execution_count": null,
   "id": "3d7d7d20",
   "metadata": {},
   "outputs": [],
   "source": [
    "thresholdN= -9*10**-5 #thr negative\n",
    "thresholdN"
   ]
  },
  {
   "cell_type": "code",
   "execution_count": null,
   "id": "2726e068",
   "metadata": {},
   "outputs": [],
   "source": [
    "cutDays22 = cutDays2[\"Date_reported\"]\n",
    "cutDays22"
   ]
  },
  {
   "cell_type": "code",
   "execution_count": null,
   "id": "ea149b6c",
   "metadata": {},
   "outputs": [],
   "source": [
    "d=cutDays22.groupby(cutDays22.index//2).agg(lambda x : x if  min(\n",
    "        df_max_scaled[\n",
    "            (df_max_scaled[\"Date_reported\"]>=x.iloc[0]) & \n",
    "            (df_max_scaled[\"Date_reported\"]<=x.iloc[1])\n",
    "        ][\"secondDerivate_new_cases\"]# in this way we get all the second derivate values between consecutive pair of cutdays\n",
    ") < thresholdN else [])\n",
    "d"
   ]
  },
  {
   "cell_type": "code",
   "execution_count": null,
   "id": "ef8e1db6",
   "metadata": {},
   "outputs": [],
   "source": [
    "dates = pd.to_datetime(d.explode())\n",
    "dates=dates[~np.isnat(dates)]\n",
    "dates"
   ]
  },
  {
   "cell_type": "code",
   "execution_count": null,
   "id": "b49ef296",
   "metadata": {},
   "outputs": [],
   "source": [
    "cases =df_max_scaled[\"norm_new_cases\"]\n",
    "plt.figure(figsize=(12,12))\n",
    "\n",
    "plt.plot(df_max_scaled[\"Date_reported\"],cases,color=\"gray\")\n",
    "plt.plot(df_max_scaled[\"Date_reported\"],df_max_scaled[\"smoothed_new_cases_2\"],color=\"red\")\n",
    "\n",
    "plt.ylabel('numbers')\n",
    "plt.xticks(rotation=60)\n",
    "\n",
    "# Plot vertical lines at each date\n",
    "for date in dates :\n",
    "    plt.axvline(x=date, color='black', ymax= max(cases), linestyle='--', linewidth=.91)"
   ]
  },
  {
   "cell_type": "markdown",
   "id": "06becd7c",
   "metadata": {},
   "source": [
    "        b. for those with the negative sign:  the consecutive pair start and finalize in the first and last Date_reported, respectivelly"
   ]
  },
  {
   "cell_type": "code",
   "execution_count": null,
   "id": "0d4bad4c",
   "metadata": {},
   "outputs": [],
   "source": [
    "cutDays23=pd.concat([df_max_scaled[\"Date_reported\"].iloc[[0]],cutDays22,df_max_scaled[\"Date_reported\"].iloc[[-1]]]).reset_index(drop=True)\n",
    "cutDays23"
   ]
  },
  {
   "cell_type": "code",
   "execution_count": null,
   "id": "8430c87a",
   "metadata": {},
   "outputs": [],
   "source": [
    "d2=cutDays23.groupby(cutDays23.index//2).agg(lambda x : x if  min(\n",
    "        df_max_scaled[\n",
    "            (df_max_scaled[\"Date_reported\"]>=x.iloc[0]) & \n",
    "            (df_max_scaled[\"Date_reported\"]<=x.iloc[1])\n",
    "        ][\"secondDerivate_new_cases\"]) < thresholdN else [])\n",
    "d2"
   ]
  },
  {
   "cell_type": "code",
   "execution_count": null,
   "id": "26316a1d",
   "metadata": {},
   "outputs": [],
   "source": [
    "dates2 = pd.to_datetime(d2.explode())\n",
    "dates2=dates2[~np.isnat(dates2)]\n",
    "dates2"
   ]
  },
  {
   "cell_type": "code",
   "execution_count": null,
   "id": "bd63bac9",
   "metadata": {},
   "outputs": [],
   "source": [
    "plt.figure(figsize = (12,12))\n",
    "plt.plot(df_max_scaled[\"Date_reported\"], df_max_scaled[\"norm_new_cases\"], color=\"gray\")\n",
    "plt.plot(df_max_scaled[\"Date_reported\"],df_max_scaled[\"smoothed_new_cases_2\"],color=\"red\")\n",
    "for date in dates2:\n",
    "    plt.axvline(x=date, color=\"black\", ymax=max(df_max_scaled[\"norm_new_cases\"]), linestyle='--', linewidth=.91)"
   ]
  },
  {
   "cell_type": "code",
   "execution_count": null,
   "id": "734218ea",
   "metadata": {},
   "outputs": [],
   "source": [
    "#Radio\n",
    "n0 = 1000\n",
    "tm = \n",
    "function = lambda x: n0 * exp(-(ln(2)/tm))"
   ]
  }
 ],
 "metadata": {
  "kernelspec": {
   "display_name": "Python 3 (ipykernel)",
   "language": "python",
   "name": "python3"
  },
  "language_info": {
   "codemirror_mode": {
    "name": "ipython",
    "version": 3
   },
   "file_extension": ".py",
   "mimetype": "text/x-python",
   "name": "python",
   "nbconvert_exporter": "python",
   "pygments_lexer": "ipython3",
   "version": "3.10.10"
  }
 },
 "nbformat": 4,
 "nbformat_minor": 5
}
