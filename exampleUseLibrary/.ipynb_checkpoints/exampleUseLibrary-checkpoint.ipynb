{
 "cells": [
  {
   "cell_type": "markdown",
   "metadata": {},
   "source": [
    "In this notebook we make an example of how to use the EpidemicKabu library. For this, we use the unCoVer data about COVID-19 epidemic in different countries with  daily dates and cases reported between 2020 and 2022. All the data used is in \"./data/\" directory."
   ]
  },
  {
   "cell_type": "markdown",
   "metadata": {},
   "source": [
    "Importing the library"
   ]
  },
  {
   "cell_type": "code",
   "execution_count": 16,
   "metadata": {},
   "outputs": [],
   "source": [
    "import sys\n",
    "sys.path.append('/Users/linaruiz/Documents/EpidemicKabu_project/EpidemicKabu/')\n",
    "from kabu import curves as kabu\n",
    "from kabuWaves import waves\n",
    "from kabuPeaksValleys import peaksValleys \n",
    "# como asi no se importa la librearia estos alias deben ser cambiados en las funciones\n",
    "# de abajo!!!!!!!!!!!!!!!!!!!!!!!!"
   ]
  },
  {
   "cell_type": "code",
   "execution_count": 2,
   "metadata": {},
   "outputs": [],
   "source": [
    "# importing other necesary libraries\n",
    "import pandas as pd"
   ]
  },
  {
   "cell_type": "markdown",
   "metadata": {},
   "source": [
    "Identifying the necessary attributes to make an instance of the clases waves and peaksValleys"
   ]
  },
  {
   "cell_type": "code",
   "execution_count": null,
   "metadata": {},
   "outputs": [],
   "source": [
    "?curves"
   ]
  },
  {
   "cell_type": "code",
   "execution_count": 3,
   "metadata": {},
   "outputs": [],
   "source": [
    "?waves"
   ]
  },
  {
   "cell_type": "code",
   "execution_count": null,
   "metadata": {},
   "outputs": [],
   "source": [
    "?peaksValleys"
   ]
  },
  {
   "cell_type": "markdown",
   "metadata": {},
   "source": [
    "Defining the variables to use"
   ]
  },
  {
   "cell_type": "code",
   "execution_count": 19,
   "metadata": {},
   "outputs": [
    {
     "data": {
      "text/html": [
       "<div>\n",
       "<style scoped>\n",
       "    .dataframe tbody tr th:only-of-type {\n",
       "        vertical-align: middle;\n",
       "    }\n",
       "\n",
       "    .dataframe tbody tr th {\n",
       "        vertical-align: top;\n",
       "    }\n",
       "\n",
       "    .dataframe thead th {\n",
       "        text-align: right;\n",
       "    }\n",
       "</style>\n",
       "<table border=\"1\" class=\"dataframe\">\n",
       "  <thead>\n",
       "    <tr style=\"text-align: right;\">\n",
       "      <th></th>\n",
       "      <th>Date_reported</th>\n",
       "      <th>Country_code</th>\n",
       "      <th>Country</th>\n",
       "      <th>WHO_region</th>\n",
       "      <th>New_cases</th>\n",
       "      <th>Cumulative_cases</th>\n",
       "      <th>New_deaths</th>\n",
       "      <th>Cumulative_deaths</th>\n",
       "    </tr>\n",
       "  </thead>\n",
       "  <tbody>\n",
       "    <tr>\n",
       "      <th>0</th>\n",
       "      <td>2020-01-03</td>\n",
       "      <td>BE</td>\n",
       "      <td>Belgium</td>\n",
       "      <td>EURO</td>\n",
       "      <td>0</td>\n",
       "      <td>0</td>\n",
       "      <td>0</td>\n",
       "      <td>0</td>\n",
       "    </tr>\n",
       "    <tr>\n",
       "      <th>1</th>\n",
       "      <td>2020-01-04</td>\n",
       "      <td>BE</td>\n",
       "      <td>Belgium</td>\n",
       "      <td>EURO</td>\n",
       "      <td>0</td>\n",
       "      <td>0</td>\n",
       "      <td>0</td>\n",
       "      <td>0</td>\n",
       "    </tr>\n",
       "    <tr>\n",
       "      <th>2</th>\n",
       "      <td>2020-01-05</td>\n",
       "      <td>BE</td>\n",
       "      <td>Belgium</td>\n",
       "      <td>EURO</td>\n",
       "      <td>0</td>\n",
       "      <td>0</td>\n",
       "      <td>0</td>\n",
       "      <td>0</td>\n",
       "    </tr>\n",
       "  </tbody>\n",
       "</table>\n",
       "</div>"
      ],
      "text/plain": [
       "  Date_reported Country_code  Country WHO_region  New_cases  Cumulative_cases  \\\n",
       "0    2020-01-03           BE  Belgium       EURO          0                 0   \n",
       "1    2020-01-04           BE  Belgium       EURO          0                 0   \n",
       "2    2020-01-05           BE  Belgium       EURO          0                 0   \n",
       "\n",
       "   New_deaths  Cumulative_deaths  \n",
       "0           0                  0  \n",
       "1           0                  0  \n",
       "2           0                  0  "
      ]
     },
     "execution_count": 19,
     "metadata": {},
     "output_type": "execute_result"
    }
   ],
   "source": [
    "# The dataframe with the columns dates and cases by date\n",
    "database = pd.read_csv(\"/Users/linaruiz/Documents/EpidemicKabu_project/EpidemicKabu/exampleUseLibrary/data/uncoverCountries.csv\")\n",
    "datesName = \"Date_reported\"\n",
    "casesName = \"New_cases\"\n",
    "database.head(3)"
   ]
  },
  {
   "cell_type": "code",
   "execution_count": 4,
   "metadata": {},
   "outputs": [
    {
     "data": {
      "text/html": [
       "<div>\n",
       "<style scoped>\n",
       "    .dataframe tbody tr th:only-of-type {\n",
       "        vertical-align: middle;\n",
       "    }\n",
       "\n",
       "    .dataframe tbody tr th {\n",
       "        vertical-align: top;\n",
       "    }\n",
       "\n",
       "    .dataframe thead th {\n",
       "        text-align: right;\n",
       "    }\n",
       "</style>\n",
       "<table border=\"1\" class=\"dataframe\">\n",
       "  <thead>\n",
       "    <tr style=\"text-align: right;\">\n",
       "      <th></th>\n",
       "      <th>Country</th>\n",
       "      <th>Code</th>\n",
       "      <th>kernel1</th>\n",
       "      <th>kernel2</th>\n",
       "    </tr>\n",
       "  </thead>\n",
       "  <tbody>\n",
       "    <tr>\n",
       "      <th>0</th>\n",
       "      <td>Belgium</td>\n",
       "      <td>BE</td>\n",
       "      <td>18</td>\n",
       "      <td>27</td>\n",
       "    </tr>\n",
       "    <tr>\n",
       "      <th>1</th>\n",
       "      <td>Bolivia</td>\n",
       "      <td>BO</td>\n",
       "      <td>18</td>\n",
       "      <td>27</td>\n",
       "    </tr>\n",
       "    <tr>\n",
       "      <th>2</th>\n",
       "      <td>Brazil</td>\n",
       "      <td>BR</td>\n",
       "      <td>50</td>\n",
       "      <td>27</td>\n",
       "    </tr>\n",
       "  </tbody>\n",
       "</table>\n",
       "</div>"
      ],
      "text/plain": [
       "   Country Code  kernel1  kernel2\n",
       "0  Belgium   BE       18       27\n",
       "1  Bolivia   BO       18       27\n",
       "2   Brazil   BR       50       27"
      ]
     },
     "execution_count": 4,
     "metadata": {},
     "output_type": "execute_result"
    }
   ],
   "source": [
    "# The next dataframe has the kernel values for the countries\n",
    "configFile= pd.read_csv(\"/Users/linaruiz/Documents/EpidemicKabu_project/EpidemicKabu/exampleUseLibrary/data/configurationFile.csv\")\n",
    "configFile.head(3)"
   ]
  },
  {
   "cell_type": "code",
   "execution_count": 23,
   "metadata": {},
   "outputs": [],
   "source": [
    "# the names of the output files\n",
    "plotNameW = \"Epidemic_curve_Colombia_W\"\n",
    "dfNameW = \"Epidemic_curve_Colombia_W\"\n",
    "plotNamePV = \"Epidemic_curve_Colombia_PV\"\n",
    "dfNamePV = \"Epidemic_curve_Colombia_PV\""
   ]
  },
  {
   "cell_type": "code",
   "execution_count": 5,
   "metadata": {},
   "outputs": [],
   "source": [
    "#Be sure to create the \"./plots/\" and \"./dataframes\" folder in the same folder in which you\n",
    "#are running the code, or define the variables to set an specific directory\n",
    "outFolderPlot= \"/Users/linaruiz/Documents/EpidemicKabu_project/EpidemicKabu/exampleUseLibrary/plots/\"\n",
    "outFolderDF= \"/Users/linaruiz/Documents/EpidemicKabu_project/EpidemicKabu/exampleUseLibrary/dataframes/\""
   ]
  },
  {
   "cell_type": "code",
   "execution_count": 6,
   "metadata": {},
   "outputs": [],
   "source": [
    "# The threshols is optional by default is zero. We declarate them but ...\n",
    "thresholdW = 0\n",
    "thresholdPV = 0"
   ]
  },
  {
   "cell_type": "markdown",
   "metadata": {},
   "source": [
    "Basic example for Colombia epidemic curve"
   ]
  },
  {
   "cell_type": "markdown",
   "metadata": {},
   "source": [
    "    Waves"
   ]
  },
  {
   "cell_type": "code",
   "execution_count": null,
   "metadata": {},
   "outputs": [],
   "source": [
    "example = waves(database,datesName,casesName,[configFile,\"Code\",\"CO\",\"kernel1\"],plotNameW,dfNameW,outFolderPlot,outFolderDF,thresholdW)\n",
    "example.run()"
   ]
  },
  {
   "cell_type": "code",
   "execution_count": null,
   "metadata": {},
   "outputs": [],
   "source": [
    "# A simplier version with a kernels as a number an without customize the attributes with default values\n",
    "example = waves(database,datesName,casesName,28,plotNameW,dfNameW)\n",
    "example.run()"
   ]
  },
  {
   "cell_type": "markdown",
   "metadata": {},
   "source": [
    "    Peaks and valleys"
   ]
  },
  {
   "cell_type": "code",
   "execution_count": null,
   "metadata": {},
   "outputs": [],
   "source": [
    "example = peaksValleys(database,datesName,casesName,[configFile,\"Code\",\"CO\",\"kernel1\"],plotNamePV,dfNamePV,outFolderPlot,outFolderDF,thresholdPV)\n",
    "example.run()"
   ]
  },
  {
   "cell_type": "code",
   "execution_count": null,
   "metadata": {},
   "outputs": [],
   "source": [
    "# A simplier version with a kernels as a number an without customize the attributes with default values\n",
    "example = peakValleys(database,datesName,casesName,28,plotNameW,dfNameW)\n",
    "example.run()"
   ]
  },
  {
   "cell_type": "markdown",
   "metadata": {},
   "source": [
    "Basic example for Colombia epidemic curve"
   ]
  },
  {
   "cell_type": "markdown",
   "metadata": {},
   "source": [
    "    Waves"
   ]
  },
  {
   "cell_type": "code",
   "execution_count": null,
   "metadata": {},
   "outputs": [],
   "source": [
    "def kabuWavesDefault (database,datesName,casesName,value,plotsName,dfName):\n",
    "    test = k.waves(database,datesName,casesName,[configFile,\"Code\",value,\"kernel1\"],plotsName,dfName)\n",
    "    test.run()\n",
    "\n",
    "dataframe.groupby(\"Country\").apply(lambda x : kabuWavesDefault(\n",
    "    x[[\"Date_reported\",\"New_cases\"]],\n",
    "    datesName,\n",
    "    casesName,\n",
    "    x[\"Country_code\"].iloc[0],\n",
    "    \"Waves_\"+ x[\"Country\"].iloc[0]+\" confi + indicator\",\n",
    "    \"Waves_\"+ x[\"Country\"].iloc[0]+\" confi + indicator\"\n",
    "    ))"
   ]
  },
  {
   "cell_type": "markdown",
   "metadata": {},
   "source": [
    "    Peaks and valleys"
   ]
  },
  {
   "cell_type": "code",
   "execution_count": null,
   "metadata": {},
   "outputs": [],
   "source": [
    "def kabuPeaksValleysDefault (database,datesName,casesName,value,plotsName,dfName):\n",
    "    test = k.waves(database,datesName,casesName,[configFile,\"Code\",value,\"kernel1\"],plotsName,dfName)\n",
    "    test.run()\n",
    "\n",
    "dataframe.groupby(\"Country\").apply(lambda x : kabuPeaksValleysDefault(\n",
    "    x[[\"Date_reported\",\"New_cases\"]],\n",
    "    datesName,\n",
    "    casesName,\n",
    "    x[\"Country_code\"].iloc[0],\n",
    "    \"PV_\"+ x[\"Country\"].iloc[0]+\" confi + indicator\",\n",
    "    \"PV_\"+ x[\"Country\"].iloc[0]+\" confi + indicator\"\n",
    "    ))"
   ]
  },
  {
   "cell_type": "code",
   "execution_count": null,
   "metadata": {},
   "outputs": [],
   "source": []
  },
  {
   "cell_type": "code",
   "execution_count": null,
   "metadata": {},
   "outputs": [],
   "source": []
  }
 ],
 "metadata": {
  "kernelspec": {
   "display_name": "Python 3 (ipykernel)",
   "language": "python",
   "name": "python3"
  },
  "language_info": {
   "codemirror_mode": {
    "name": "ipython",
    "version": 3
   },
   "file_extension": ".py",
   "mimetype": "text/x-python",
   "name": "python",
   "nbconvert_exporter": "python",
   "pygments_lexer": "ipython3",
   "version": "3.10.10"
  }
 },
 "nbformat": 4,
 "nbformat_minor": 2
}
