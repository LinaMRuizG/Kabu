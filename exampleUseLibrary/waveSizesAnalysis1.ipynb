{
 "cells": [
  {
   "attachments": {},
   "cell_type": "markdown",
   "id": "842500f4",
   "metadata": {},
   "source": [
    "**Using EpidemicKabu to estimate the size of the epidemic waves**\n",
    "In this notebook we create a database with date of report and an indicator of incident cases by date. Then, we use the library to estimate waves using the indicator and the dates as the main input. Finally, we create a database to estimate the waves size using the output database of the library."
   ]
  },
  {
   "attachments": {},
   "cell_type": "markdown",
   "id": "e161dd97",
   "metadata": {},
   "source": [
    "***1. Building the database with the indicator:*** The indicator is estimated dividing each daily case between the total population by year by country and multiplying by 100."
   ]
  },
  {
   "cell_type": "code",
   "execution_count": 4,
   "id": "10bc2bb8",
   "metadata": {},
   "outputs": [],
   "source": [
    "import pandas as pd\n",
    "import numpy as np"
   ]
  },
  {
   "cell_type": "code",
   "execution_count": 5,
   "id": "c44b2fd7",
   "metadata": {},
   "outputs": [
    {
     "data": {
      "text/html": [
       "<div>\n",
       "<style scoped>\n",
       "    .dataframe tbody tr th:only-of-type {\n",
       "        vertical-align: middle;\n",
       "    }\n",
       "\n",
       "    .dataframe tbody tr th {\n",
       "        vertical-align: top;\n",
       "    }\n",
       "\n",
       "    .dataframe thead th {\n",
       "        text-align: right;\n",
       "    }\n",
       "</style>\n",
       "<table border=\"1\" class=\"dataframe\">\n",
       "  <thead>\n",
       "    <tr style=\"text-align: right;\">\n",
       "      <th></th>\n",
       "      <th>Date_reported</th>\n",
       "      <th>Country_code</th>\n",
       "      <th>Country</th>\n",
       "      <th>New_cases</th>\n",
       "    </tr>\n",
       "  </thead>\n",
       "  <tbody>\n",
       "    <tr>\n",
       "      <th>0</th>\n",
       "      <td>2020-01-03</td>\n",
       "      <td>BE</td>\n",
       "      <td>Belgium</td>\n",
       "      <td>0</td>\n",
       "    </tr>\n",
       "    <tr>\n",
       "      <th>1</th>\n",
       "      <td>2020-01-04</td>\n",
       "      <td>BE</td>\n",
       "      <td>Belgium</td>\n",
       "      <td>0</td>\n",
       "    </tr>\n",
       "    <tr>\n",
       "      <th>2</th>\n",
       "      <td>2020-01-05</td>\n",
       "      <td>BE</td>\n",
       "      <td>Belgium</td>\n",
       "      <td>0</td>\n",
       "    </tr>\n",
       "    <tr>\n",
       "      <th>3</th>\n",
       "      <td>2020-01-06</td>\n",
       "      <td>BE</td>\n",
       "      <td>Belgium</td>\n",
       "      <td>0</td>\n",
       "    </tr>\n",
       "    <tr>\n",
       "      <th>4</th>\n",
       "      <td>2020-01-07</td>\n",
       "      <td>BE</td>\n",
       "      <td>Belgium</td>\n",
       "      <td>0</td>\n",
       "    </tr>\n",
       "  </tbody>\n",
       "</table>\n",
       "</div>"
      ],
      "text/plain": [
       "  Date_reported Country_code  Country  New_cases\n",
       "0    2020-01-03           BE  Belgium          0\n",
       "1    2020-01-04           BE  Belgium          0\n",
       "2    2020-01-05           BE  Belgium          0\n",
       "3    2020-01-06           BE  Belgium          0\n",
       "4    2020-01-07           BE  Belgium          0"
      ]
     },
     "execution_count": 5,
     "metadata": {},
     "output_type": "execute_result"
    }
   ],
   "source": [
    "#The database with the daily cases by country\n",
    "database = pd.read_csv(\"/Users/linaruiz/Documents/EpidemicKabu_project/EpidemicKabu/exampleUseLibrary/data/uncoverCountries.csv\")\n",
    "database = database[[\"Date_reported\",\"Country_code\",\"Country\",\"New_cases\"]] \n",
    "database.head()"
   ]
  },
  {
   "cell_type": "code",
   "execution_count": 6,
   "id": "b3b2fd00",
   "metadata": {},
   "outputs": [
    {
     "data": {
      "text/html": [
       "<div>\n",
       "<style scoped>\n",
       "    .dataframe tbody tr th:only-of-type {\n",
       "        vertical-align: middle;\n",
       "    }\n",
       "\n",
       "    .dataframe tbody tr th {\n",
       "        vertical-align: top;\n",
       "    }\n",
       "\n",
       "    .dataframe thead th {\n",
       "        text-align: right;\n",
       "    }\n",
       "</style>\n",
       "<table border=\"1\" class=\"dataframe\">\n",
       "  <thead>\n",
       "    <tr style=\"text-align: right;\">\n",
       "      <th></th>\n",
       "      <th>Date_reported</th>\n",
       "      <th>Country_code</th>\n",
       "      <th>Country</th>\n",
       "      <th>New_cases</th>\n",
       "      <th>Year</th>\n",
       "    </tr>\n",
       "  </thead>\n",
       "  <tbody>\n",
       "    <tr>\n",
       "      <th>0</th>\n",
       "      <td>2020-01-03</td>\n",
       "      <td>BE</td>\n",
       "      <td>Belgium</td>\n",
       "      <td>0</td>\n",
       "      <td>2020</td>\n",
       "    </tr>\n",
       "    <tr>\n",
       "      <th>1</th>\n",
       "      <td>2020-01-04</td>\n",
       "      <td>BE</td>\n",
       "      <td>Belgium</td>\n",
       "      <td>0</td>\n",
       "      <td>2020</td>\n",
       "    </tr>\n",
       "    <tr>\n",
       "      <th>2</th>\n",
       "      <td>2020-01-05</td>\n",
       "      <td>BE</td>\n",
       "      <td>Belgium</td>\n",
       "      <td>0</td>\n",
       "      <td>2020</td>\n",
       "    </tr>\n",
       "    <tr>\n",
       "      <th>3</th>\n",
       "      <td>2020-01-06</td>\n",
       "      <td>BE</td>\n",
       "      <td>Belgium</td>\n",
       "      <td>0</td>\n",
       "      <td>2020</td>\n",
       "    </tr>\n",
       "    <tr>\n",
       "      <th>4</th>\n",
       "      <td>2020-01-07</td>\n",
       "      <td>BE</td>\n",
       "      <td>Belgium</td>\n",
       "      <td>0</td>\n",
       "      <td>2020</td>\n",
       "    </tr>\n",
       "  </tbody>\n",
       "</table>\n",
       "</div>"
      ],
      "text/plain": [
       "  Date_reported Country_code  Country  New_cases  Year\n",
       "0    2020-01-03           BE  Belgium          0  2020\n",
       "1    2020-01-04           BE  Belgium          0  2020\n",
       "2    2020-01-05           BE  Belgium          0  2020\n",
       "3    2020-01-06           BE  Belgium          0  2020\n",
       "4    2020-01-07           BE  Belgium          0  2020"
      ]
     },
     "execution_count": 6,
     "metadata": {},
     "output_type": "execute_result"
    }
   ],
   "source": [
    "#Building the year coulmn for each Date_reported\n",
    "database[\"Year\"] = database.apply(lambda x : x[\"Date_reported\"][0:4], axis = 1)\n",
    "database.head()"
   ]
  },
  {
   "cell_type": "code",
   "execution_count": 7,
   "id": "9c88014b",
   "metadata": {},
   "outputs": [
    {
     "data": {
      "text/html": [
       "<div>\n",
       "<style scoped>\n",
       "    .dataframe tbody tr th:only-of-type {\n",
       "        vertical-align: middle;\n",
       "    }\n",
       "\n",
       "    .dataframe tbody tr th {\n",
       "        vertical-align: top;\n",
       "    }\n",
       "\n",
       "    .dataframe thead th {\n",
       "        text-align: right;\n",
       "    }\n",
       "</style>\n",
       "<table border=\"1\" class=\"dataframe\">\n",
       "  <thead>\n",
       "    <tr style=\"text-align: right;\">\n",
       "      <th></th>\n",
       "      <th>Country Name</th>\n",
       "      <th>2020</th>\n",
       "      <th>2021</th>\n",
       "      <th>2022</th>\n",
       "    </tr>\n",
       "  </thead>\n",
       "  <tbody>\n",
       "    <tr>\n",
       "      <th>0</th>\n",
       "      <td>Aruba</td>\n",
       "      <td>106585.0</td>\n",
       "      <td>106537.0</td>\n",
       "      <td>106537.0</td>\n",
       "    </tr>\n",
       "    <tr>\n",
       "      <th>1</th>\n",
       "      <td>Africa Eastern and Southern</td>\n",
       "      <td>685112705.0</td>\n",
       "      <td>702976832.0</td>\n",
       "      <td>702976832.0</td>\n",
       "    </tr>\n",
       "    <tr>\n",
       "      <th>2</th>\n",
       "      <td>Afghanistan</td>\n",
       "      <td>38972230.0</td>\n",
       "      <td>40099462.0</td>\n",
       "      <td>40099462.0</td>\n",
       "    </tr>\n",
       "    <tr>\n",
       "      <th>3</th>\n",
       "      <td>Africa Western and Central</td>\n",
       "      <td>466189102.0</td>\n",
       "      <td>478185907.0</td>\n",
       "      <td>478185907.0</td>\n",
       "    </tr>\n",
       "    <tr>\n",
       "      <th>4</th>\n",
       "      <td>Angola</td>\n",
       "      <td>33428486.0</td>\n",
       "      <td>34503774.0</td>\n",
       "      <td>34503774.0</td>\n",
       "    </tr>\n",
       "  </tbody>\n",
       "</table>\n",
       "</div>"
      ],
      "text/plain": [
       "                  Country Name         2020         2021         2022\n",
       "0                        Aruba     106585.0     106537.0     106537.0\n",
       "1  Africa Eastern and Southern  685112705.0  702976832.0  702976832.0\n",
       "2                  Afghanistan   38972230.0   40099462.0   40099462.0\n",
       "3   Africa Western and Central  466189102.0  478185907.0  478185907.0\n",
       "4                       Angola   33428486.0   34503774.0   34503774.0"
      ]
     },
     "execution_count": 7,
     "metadata": {},
     "output_type": "execute_result"
    }
   ],
   "source": [
    "# Uploading the database with the total population by year by country from: https://data.worldbank.org/indicator/SP.POP.TOTL\n",
    "# MISSING THE 2022 POPULATION BY COUNTRY\n",
    "databaseCP= pd.read_csv(\"/Users/linaruiz/Documents/EpidemicKabu_project/EpidemicKabu/exampleUseLibrary/data/countriesPopulation.csv\").reset_index(drop=True)\n",
    "databaseCP.head()"
   ]
  },
  {
   "cell_type": "code",
   "execution_count": 16,
   "id": "475881d8",
   "metadata": {},
   "outputs": [
    {
     "data": {
      "text/html": [
       "<div>\n",
       "<style scoped>\n",
       "    .dataframe tbody tr th:only-of-type {\n",
       "        vertical-align: middle;\n",
       "    }\n",
       "\n",
       "    .dataframe tbody tr th {\n",
       "        vertical-align: top;\n",
       "    }\n",
       "\n",
       "    .dataframe thead th {\n",
       "        text-align: right;\n",
       "    }\n",
       "</style>\n",
       "<table border=\"1\" class=\"dataframe\">\n",
       "  <thead>\n",
       "    <tr style=\"text-align: right;\">\n",
       "      <th></th>\n",
       "      <th>Country Name</th>\n",
       "      <th>Year</th>\n",
       "      <th>Population</th>\n",
       "    </tr>\n",
       "  </thead>\n",
       "  <tbody>\n",
       "    <tr>\n",
       "      <th>0</th>\n",
       "      <td>Afghanistan</td>\n",
       "      <td>2020</td>\n",
       "      <td>38972230.0</td>\n",
       "    </tr>\n",
       "    <tr>\n",
       "      <th>1</th>\n",
       "      <td>Afghanistan</td>\n",
       "      <td>2021</td>\n",
       "      <td>40099462.0</td>\n",
       "    </tr>\n",
       "    <tr>\n",
       "      <th>2</th>\n",
       "      <td>Afghanistan</td>\n",
       "      <td>2022</td>\n",
       "      <td>40099462.0</td>\n",
       "    </tr>\n",
       "  </tbody>\n",
       "</table>\n",
       "</div>"
      ],
      "text/plain": [
       "  Country Name  Year  Population\n",
       "0  Afghanistan  2020  38972230.0\n",
       "1  Afghanistan  2021  40099462.0\n",
       "2  Afghanistan  2022  40099462.0"
      ]
     },
     "execution_count": 16,
     "metadata": {},
     "output_type": "execute_result"
    }
   ],
   "source": [
    "#Reordering the total population by year by country \n",
    "databaseCP2 = databaseCP.melt(id_vars=\"Country Name\", var_name=\"Year\", value_name=\"Population\")\n",
    "databaseCP2.sort_values(\"Country Name\", inplace=True)\n",
    "databaseCP2.reset_index(drop=True, inplace=True)\n",
    "databaseCP2.head(3)"
   ]
  },
  {
   "cell_type": "code",
   "execution_count": 9,
   "id": "2a423eda",
   "metadata": {},
   "outputs": [
    {
     "data": {
      "text/plain": [
       "array(['Republic of Korea', 'The United Kingdom', 'Türkiye',\n",
       "       'United States of America'], dtype=object)"
      ]
     },
     "execution_count": 9,
     "metadata": {},
     "output_type": "execute_result"
    }
   ],
   "source": [
    "# Homogenization of the countries names in such way the the database and databaseCP2 could be joined\n",
    "databaseCP2 = databaseCP2.rename(columns = {\"Country Name\":\"Country\"})\n",
    "np.setdiff1d(np.array(database[\"Country\"].unique()),np.array(databaseCP2[\"Country\"].unique()))"
   ]
  },
  {
   "cell_type": "code",
   "execution_count": null,
   "id": "c6d75353",
   "metadata": {},
   "outputs": [],
   "source": [
    "def looking (pattern):\n",
    "    return list(filter(lambda x : pattern in x, databaseCP2[\"Country\"].unique()))"
   ]
  },
  {
   "cell_type": "code",
   "execution_count": null,
   "id": "6232b2b0",
   "metadata": {},
   "outputs": [
    {
     "data": {
      "text/plain": [
       "[\"Korea, Dem. People's Rep.\", 'Korea, Rep.']"
      ]
     },
     "execution_count": 44,
     "metadata": {},
     "output_type": "execute_result"
    }
   ],
   "source": [
    "looking(\"orea\")"
   ]
  },
  {
   "cell_type": "code",
   "execution_count": null,
   "id": "95110fae",
   "metadata": {},
   "outputs": [
    {
     "data": {
      "text/plain": [
       "['United Kingdom']"
      ]
     },
     "execution_count": 45,
     "metadata": {},
     "output_type": "execute_result"
    }
   ],
   "source": [
    "looking(\"ingdom\")"
   ]
  },
  {
   "cell_type": "code",
   "execution_count": null,
   "id": "aaf2fc56",
   "metadata": {},
   "outputs": [
    {
     "data": {
      "text/plain": [
       "['Turkiye']"
      ]
     },
     "execution_count": 46,
     "metadata": {},
     "output_type": "execute_result"
    }
   ],
   "source": [
    "looking(\"rkiye\")"
   ]
  },
  {
   "cell_type": "code",
   "execution_count": null,
   "id": "17847b7b",
   "metadata": {},
   "outputs": [
    {
     "data": {
      "text/plain": [
       "['American Samoa',\n",
       " 'Latin America & Caribbean',\n",
       " 'Latin America & Caribbean (excluding high income)',\n",
       " 'Latin America & the Caribbean (IDA & IBRD countries)',\n",
       " 'North America']"
      ]
     },
     "execution_count": 47,
     "metadata": {},
     "output_type": "execute_result"
    }
   ],
   "source": [
    "looking(\"merica\")"
   ]
  },
  {
   "cell_type": "code",
   "execution_count": null,
   "id": "f98018ea",
   "metadata": {},
   "outputs": [
    {
     "data": {
      "text/plain": [
       "['Caribbean small states',\n",
       " 'Other small states',\n",
       " 'Pacific island small states',\n",
       " 'Small states',\n",
       " 'United States']"
      ]
     },
     "execution_count": 48,
     "metadata": {},
     "output_type": "execute_result"
    }
   ],
   "source": [
    "looking(\"tates\")"
   ]
  },
  {
   "cell_type": "code",
   "execution_count": 10,
   "id": "93134d7c",
   "metadata": {},
   "outputs": [],
   "source": [
    "old_strings = ['Korea, Rep.', 'United Kingdom', 'Turkiye','United States']\n",
    "new_strings = ['Republic of Korea', 'The United Kingdom', 'Türkiye',\n",
    "       'United States of America']"
   ]
  },
  {
   "cell_type": "code",
   "execution_count": 11,
   "id": "f91ad334",
   "metadata": {},
   "outputs": [],
   "source": [
    "databaseCP2[\"Country\"] = databaseCP2[\"Country\"].replace(old_strings,new_strings)"
   ]
  },
  {
   "cell_type": "code",
   "execution_count": 12,
   "id": "6543bb39",
   "metadata": {},
   "outputs": [
    {
     "data": {
      "text/plain": [
       "array([], dtype=object)"
      ]
     },
     "execution_count": 12,
     "metadata": {},
     "output_type": "execute_result"
    }
   ],
   "source": [
    "np.setdiff1d(np.array(database[\"Country\"].unique()),np.array(databaseCP2[\"Country\"].unique()))"
   ]
  },
  {
   "cell_type": "code",
   "execution_count": 15,
   "id": "d4041ec9",
   "metadata": {},
   "outputs": [
    {
     "data": {
      "text/html": [
       "<div>\n",
       "<style scoped>\n",
       "    .dataframe tbody tr th:only-of-type {\n",
       "        vertical-align: middle;\n",
       "    }\n",
       "\n",
       "    .dataframe tbody tr th {\n",
       "        vertical-align: top;\n",
       "    }\n",
       "\n",
       "    .dataframe thead th {\n",
       "        text-align: right;\n",
       "    }\n",
       "</style>\n",
       "<table border=\"1\" class=\"dataframe\">\n",
       "  <thead>\n",
       "    <tr style=\"text-align: right;\">\n",
       "      <th></th>\n",
       "      <th>Date_reported</th>\n",
       "      <th>Country_code</th>\n",
       "      <th>Country</th>\n",
       "      <th>New_cases</th>\n",
       "      <th>Year</th>\n",
       "      <th>Population</th>\n",
       "      <th>Indicator</th>\n",
       "    </tr>\n",
       "  </thead>\n",
       "  <tbody>\n",
       "    <tr>\n",
       "      <th>0</th>\n",
       "      <td>2020-01-03</td>\n",
       "      <td>BE</td>\n",
       "      <td>Belgium</td>\n",
       "      <td>0</td>\n",
       "      <td>2020</td>\n",
       "      <td>11538604.0</td>\n",
       "      <td>0.0</td>\n",
       "    </tr>\n",
       "    <tr>\n",
       "      <th>1</th>\n",
       "      <td>2020-01-04</td>\n",
       "      <td>BE</td>\n",
       "      <td>Belgium</td>\n",
       "      <td>0</td>\n",
       "      <td>2020</td>\n",
       "      <td>11538604.0</td>\n",
       "      <td>0.0</td>\n",
       "    </tr>\n",
       "    <tr>\n",
       "      <th>2</th>\n",
       "      <td>2020-01-05</td>\n",
       "      <td>BE</td>\n",
       "      <td>Belgium</td>\n",
       "      <td>0</td>\n",
       "      <td>2020</td>\n",
       "      <td>11538604.0</td>\n",
       "      <td>0.0</td>\n",
       "    </tr>\n",
       "    <tr>\n",
       "      <th>3</th>\n",
       "      <td>2020-01-06</td>\n",
       "      <td>BE</td>\n",
       "      <td>Belgium</td>\n",
       "      <td>0</td>\n",
       "      <td>2020</td>\n",
       "      <td>11538604.0</td>\n",
       "      <td>0.0</td>\n",
       "    </tr>\n",
       "  </tbody>\n",
       "</table>\n",
       "</div>"
      ],
      "text/plain": [
       "  Date_reported Country_code  Country  New_cases  Year  Population  Indicator\n",
       "0    2020-01-03           BE  Belgium          0  2020  11538604.0        0.0\n",
       "1    2020-01-04           BE  Belgium          0  2020  11538604.0        0.0\n",
       "2    2020-01-05           BE  Belgium          0  2020  11538604.0        0.0\n",
       "3    2020-01-06           BE  Belgium          0  2020  11538604.0        0.0"
      ]
     },
     "execution_count": 15,
     "metadata": {},
     "output_type": "execute_result"
    }
   ],
   "source": [
    "#The complete database with the population by year by country by each date_reported and the indicator\n",
    "complete = pd.merge(database,databaseCP2, on = [\"Country\",\"Year\"])\n",
    "complete.Date_reported = pd.to_datetime(complete.Date_reported,errors = \"coerce\")\n",
    "complete[\"Indicator\"] = (complete[\"New_cases\"]/complete[\"Population\"])*100\n",
    "complete.to_csv(\"/Users/linaruiz/Documents/EpidemicKabu_project/EpidemicKabu/exampleUseLibrary/data/uncoverCountriesIndicator.csv\")\n",
    "complete.drop_duplicates([\"Year\",\"Population\"])\n",
    "complete.head(4)"
   ]
  },
  {
   "attachments": {},
   "cell_type": "markdown",
   "id": "d53c4e4e",
   "metadata": {},
   "source": [
    "***2. Using EpidemicKabu library:*** Using the date and the indicator of incident cases to estiamte the waves"
   ]
  },
  {
   "cell_type": "code",
   "execution_count": 1,
   "id": "f82ff544",
   "metadata": {},
   "outputs": [
    {
     "ename": "ModuleNotFoundError",
     "evalue": "No module named 'kabu'",
     "output_type": "error",
     "traceback": [
      "\u001b[0;31m---------------------------------------------------------------------------\u001b[0m",
      "\u001b[0;31mModuleNotFoundError\u001b[0m                       Traceback (most recent call last)",
      "Cell \u001b[0;32mIn[1], line 1\u001b[0m\n\u001b[0;32m----> 1\u001b[0m \u001b[39mfrom\u001b[39;00m \u001b[39mkabu\u001b[39;00m \u001b[39mimport\u001b[39;00m curves\n\u001b[1;32m      2\u001b[0m \u001b[39mfrom\u001b[39;00m \u001b[39mkabuWaves\u001b[39;00m \u001b[39mimport\u001b[39;00m waves\n\u001b[1;32m      3\u001b[0m \u001b[39mfrom\u001b[39;00m \u001b[39mkabuPeaksValleys\u001b[39;00m \u001b[39mimport\u001b[39;00m peaksValleys\n",
      "\u001b[0;31mModuleNotFoundError\u001b[0m: No module named 'kabu'"
     ]
    }
   ],
   "source": [
    "from kabu import curves\n",
    "from kabuWaves import waves\n",
    "from kabuPeaksValleys import peaksValleys"
   ]
  },
  {
   "cell_type": "code",
   "execution_count": 85,
   "id": "5c6442c6",
   "metadata": {},
   "outputs": [],
   "source": [
    "dataframe= pd.read_csv(\"/Users/linaruiz/Documents/EpidemicKabu_project/EpidemicKabu/exampleUseLibrary/data/uncoverCountriesIndicator.csv\")\n",
    "datesName = \"Date_reported\"\n",
    "casesName = \"Indicator\"\n",
    "configFile= pd.read_csv(\"/Users/linaruiz/Documents/projectEpidemicCurve/kabu/Kabu/ConfigFile.csv\")"
   ]
  },
  {
   "cell_type": "code",
   "execution_count": 87,
   "id": "a0e01cbb",
   "metadata": {},
   "outputs": [],
   "source": [
    "def kabuWavesF (database,datesName,casesName,value,plotName,dfName):\n",
    "    test = waves(database,datesName,casesName,[configFile,\"Code\",value,\"kernel1\"],plotName,dfName)\n",
    "    test.run()"
   ]
  },
  {
   "cell_type": "code",
   "execution_count": null,
   "id": "ca57b033",
   "metadata": {},
   "outputs": [],
   "source": [
    "dataframe.groupby(\"Country\").apply(lambda x : kabuWavesF(\n",
    "    x[[\"Date_reported\",\"Indicator\"]],\n",
    "    datesName,\n",
    "    casesName,\n",
    "    x[\"Country_code\"].iloc[0],\n",
    "    \"Waves_\"+ x[\"Country\"].iloc[0]+\" confi + indicator\",\n",
    "    \"Waves_\"+ x[\"Country\"].iloc[0]+\" confi + indicator\"))"
   ]
  },
  {
   "attachments": {},
   "cell_type": "markdown",
   "id": "592f3ddc",
   "metadata": {},
   "source": [
    "***3. Creating a database to estimate the size of the waves:***\n",
    "1. sum: It counts the Indicator values since the start to the end of each wave\n",
    "2. max: The maximum value inside the wave\n",
    "3. max: The maximum value normalized by its maximum value"
   ]
  },
  {
   "cell_type": "code",
   "execution_count": 17,
   "id": "2d1cf30d",
   "metadata": {},
   "outputs": [
    {
     "ename": "NameError",
     "evalue": "name 'dataframe' is not defined",
     "output_type": "error",
     "traceback": [
      "\u001b[0;31m---------------------------------------------------------------------------\u001b[0m",
      "\u001b[0;31mNameError\u001b[0m                                 Traceback (most recent call last)",
      "Cell \u001b[0;32mIn[17], line 1\u001b[0m\n\u001b[0;32m----> 1\u001b[0m sizeWavesDF \u001b[39m=\u001b[39m dataframe\u001b[39m.\u001b[39mgroupby(\u001b[39m\"\u001b[39m\u001b[39mCountry\u001b[39m\u001b[39m\"\u001b[39m)\u001b[39m.\u001b[39mapply(\u001b[39mlambda\u001b[39;00m x : pd\u001b[39m.\u001b[39mread_csv(\u001b[39m\"\u001b[39m\u001b[39m/Users/linaruiz/Documents/projectEpidemicCurve/kabu/Kabu/dataframes/\u001b[39m\u001b[39m\"\u001b[39m \u001b[39m+\u001b[39m \u001b[39m\"\u001b[39m\u001b[39mWaves_\u001b[39m\u001b[39m\"\u001b[39m\u001b[39m+\u001b[39m x[\u001b[39m\"\u001b[39m\u001b[39mCountry\u001b[39m\u001b[39m\"\u001b[39m]\u001b[39m.\u001b[39miloc[\u001b[39m0\u001b[39m]\u001b[39m+\u001b[39m\u001b[39m\"\u001b[39m\u001b[39m confi + indicator\u001b[39m\u001b[39m\"\u001b[39m \u001b[39m+\u001b[39m \u001b[39m\"\u001b[39m\u001b[39m.csv\u001b[39m\u001b[39m\"\u001b[39m))\n\u001b[1;32m      2\u001b[0m sizeWavesDF\n",
      "\u001b[0;31mNameError\u001b[0m: name 'dataframe' is not defined"
     ]
    }
   ],
   "source": [
    "sizeWavesDF = dataframe.groupby(\"Country\").apply(lambda x : pd.read_csv(\"/Users/linaruiz/Documents/projectEpidemicCurve/kabu/Kabu/dataframes/\" + \"Waves_\"+ x[\"Country\"].iloc[0]+\" confi + indicator\" + \".csv\"))\n",
    "sizeWavesDF"
   ]
  },
  {
   "cell_type": "code",
   "execution_count": 68,
   "id": "3535d421",
   "metadata": {},
   "outputs": [
    {
     "data": {
      "text/plain": [
       "MultiIndex([(                 'Belgium',   0),\n",
       "            (                 'Belgium',   1),\n",
       "            (                 'Belgium',   2),\n",
       "            (                 'Belgium',   3),\n",
       "            (                 'Belgium',   4),\n",
       "            (                 'Belgium',   5),\n",
       "            (                 'Belgium',   6),\n",
       "            (                 'Belgium',   7),\n",
       "            (                 'Belgium',   8),\n",
       "            (                 'Belgium',   9),\n",
       "            ...\n",
       "            ('United States of America', 989),\n",
       "            ('United States of America', 990),\n",
       "            ('United States of America', 991),\n",
       "            ('United States of America', 992),\n",
       "            ('United States of America', 993),\n",
       "            ('United States of America', 994),\n",
       "            ('United States of America', 995),\n",
       "            ('United States of America', 996),\n",
       "            ('United States of America', 997),\n",
       "            ('United States of America', 998)],\n",
       "           names=['Country', None], length=14985)"
      ]
     },
     "execution_count": 68,
     "metadata": {},
     "output_type": "execute_result"
    }
   ],
   "source": [
    "dfs.index"
   ]
  },
  {
   "cell_type": "code",
   "execution_count": 90,
   "id": "cd9a390c",
   "metadata": {},
   "outputs": [],
   "source": [
    "def group (name):\n",
    "    d = pd.read_csv(\"/Users/linaruiz/Documents/projectEpidemicCurve/kabu/Kabu/dataframes/\" + name + \".csv\")\n",
    "    d[\"Indicator\"] = d[\"Indicator\"]\n",
    "    d[\"cunsum\"] = (d['CutDays'] == 1).cumsum()\n",
    "    n = d.groupby(\"cunsum\")['Indicator'].agg([\"max\",\"sum\"]) \n",
    "    n[\"max/Max\"] = n[\"max\"]/n[\"max\"].max()\n",
    "    return n"
   ]
  },
  {
   "cell_type": "code",
   "execution_count": 92,
   "id": "24b26b4c",
   "metadata": {},
   "outputs": [
    {
     "data": {
      "text/html": [
       "<div>\n",
       "<style scoped>\n",
       "    .dataframe tbody tr th:only-of-type {\n",
       "        vertical-align: middle;\n",
       "    }\n",
       "\n",
       "    .dataframe tbody tr th {\n",
       "        vertical-align: top;\n",
       "    }\n",
       "\n",
       "    .dataframe thead th {\n",
       "        text-align: right;\n",
       "    }\n",
       "</style>\n",
       "<table border=\"1\" class=\"dataframe\">\n",
       "  <thead>\n",
       "    <tr style=\"text-align: right;\">\n",
       "      <th></th>\n",
       "      <th></th>\n",
       "      <th>max</th>\n",
       "      <th>sum</th>\n",
       "      <th>max/Max</th>\n",
       "    </tr>\n",
       "    <tr>\n",
       "      <th>Country</th>\n",
       "      <th>cunsum</th>\n",
       "      <th></th>\n",
       "      <th></th>\n",
       "      <th></th>\n",
       "    </tr>\n",
       "  </thead>\n",
       "  <tbody>\n",
       "    <tr>\n",
       "      <th rowspan=\"5\" valign=\"top\">Belgium</th>\n",
       "      <th>0</th>\n",
       "      <td>0.020245</td>\n",
       "      <td>0.529787</td>\n",
       "      <td>0.030868</td>\n",
       "    </tr>\n",
       "    <tr>\n",
       "      <th>1</th>\n",
       "      <td>0.192320</td>\n",
       "      <td>5.148259</td>\n",
       "      <td>0.293231</td>\n",
       "    </tr>\n",
       "    <tr>\n",
       "      <th>2</th>\n",
       "      <td>0.054214</td>\n",
       "      <td>3.639953</td>\n",
       "      <td>0.082660</td>\n",
       "    </tr>\n",
       "    <tr>\n",
       "      <th>3</th>\n",
       "      <td>0.221039</td>\n",
       "      <td>7.773102</td>\n",
       "      <td>0.337020</td>\n",
       "    </tr>\n",
       "    <tr>\n",
       "      <th>4</th>\n",
       "      <td>0.655864</td>\n",
       "      <td>14.027575</td>\n",
       "      <td>1.000000</td>\n",
       "    </tr>\n",
       "    <tr>\n",
       "      <th>...</th>\n",
       "      <th>...</th>\n",
       "      <td>...</td>\n",
       "      <td>...</td>\n",
       "      <td>...</td>\n",
       "    </tr>\n",
       "    <tr>\n",
       "      <th rowspan=\"5\" valign=\"top\">Spain</th>\n",
       "      <th>3</th>\n",
       "      <td>0.023091</td>\n",
       "      <td>0.833464</td>\n",
       "      <td>0.062179</td>\n",
       "    </tr>\n",
       "    <tr>\n",
       "      <th>4</th>\n",
       "      <td>0.067292</td>\n",
       "      <td>2.772925</td>\n",
       "      <td>0.181198</td>\n",
       "    </tr>\n",
       "    <tr>\n",
       "      <th>5</th>\n",
       "      <td>0.371372</td>\n",
       "      <td>14.250602</td>\n",
       "      <td>1.000000</td>\n",
       "    </tr>\n",
       "    <tr>\n",
       "      <th>6</th>\n",
       "      <td>0.052748</td>\n",
       "      <td>1.528994</td>\n",
       "      <td>0.142036</td>\n",
       "    </tr>\n",
       "    <tr>\n",
       "      <th>7</th>\n",
       "      <td>0.176340</td>\n",
       "      <td>1.953300</td>\n",
       "      <td>0.474834</td>\n",
       "    </tr>\n",
       "  </tbody>\n",
       "</table>\n",
       "<p>70 rows × 3 columns</p>\n",
       "</div>"
      ],
      "text/plain": [
       "                     max        sum   max/Max\n",
       "Country cunsum                               \n",
       "Belgium 0       0.020245   0.529787  0.030868\n",
       "        1       0.192320   5.148259  0.293231\n",
       "        2       0.054214   3.639953  0.082660\n",
       "        3       0.221039   7.773102  0.337020\n",
       "        4       0.655864  14.027575  1.000000\n",
       "...                  ...        ...       ...\n",
       "Spain   3       0.023091   0.833464  0.062179\n",
       "        4       0.067292   2.772925  0.181198\n",
       "        5       0.371372  14.250602  1.000000\n",
       "        6       0.052748   1.528994  0.142036\n",
       "        7       0.176340   1.953300  0.474834\n",
       "\n",
       "[70 rows x 3 columns]"
      ]
     },
     "execution_count": 92,
     "metadata": {},
     "output_type": "execute_result"
    }
   ],
   "source": [
    "sizeWavesDF = dataframe.groupby(\"Country\").apply(lambda x : group(\"Waves_\"+ x[\"Country\"].iloc[0]+\" confi + indicator\") )\n",
    "sizeWavesDF.to_csv(\"/Users/linaruiz/Documents/projectEpidemicCurve/data/wavesSizes.csv\")\n",
    "sizeWavesDF"
   ]
  }
 ],
 "metadata": {
  "kernelspec": {
   "display_name": "Python 3 (ipykernel)",
   "language": "python",
   "name": "python3"
  },
  "language_info": {
   "codemirror_mode": {
    "name": "ipython",
    "version": 3
   },
   "file_extension": ".py",
   "mimetype": "text/x-python",
   "name": "python",
   "nbconvert_exporter": "python",
   "pygments_lexer": "ipython3",
   "version": "3.10.10"
  }
 },
 "nbformat": 4,
 "nbformat_minor": 5
}
